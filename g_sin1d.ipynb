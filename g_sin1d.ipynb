{
 "cells": [
  {
   "cell_type": "code",
   "execution_count": 1,
   "id": "f3aa0f7e",
   "metadata": {
    "ExecuteTime": {
     "end_time": "2023-04-17T13:33:12.736632Z",
     "start_time": "2023-04-17T13:33:10.105866Z"
    }
   },
   "outputs": [],
   "source": [
    "import os\n",
    "import math\n",
    "import numpy as np\n",
    "import pandas as pd\n",
    "import GPy\n",
    "import pickle\n",
    "import random\n",
    "import torch\n",
    "import botorch\n",
    "import gpytorch\n",
    "import matplotlib.pyplot as plt\n",
    "\n",
    "from sklearn import metrics, datasets\n",
    "from sklearn.preprocessing import StandardScaler\n",
    "from scipy.stats import pearsonr\n",
    "from scipy.stats import qmc\n",
    "from collections import Counter\n",
    "from matplotlib import pyplot as plt\n",
    "from math import pi\n",
    "from matplotlib import cm\n",
    "from matplotlib.ticker import LinearLocator\n",
    "\n",
    "from gpytorch.mlls import ExactMarginalLogLikelihood\n",
    "from botorch.models import SingleTaskGP,HeteroskedasticSingleTaskGP, FixedNoiseGP\n",
    "from botorch.fit import fit_gpytorch_model\n",
    "from botorch.utils import standardize"
   ]
  },
  {
   "cell_type": "code",
   "execution_count": 2,
   "id": "ad31f1c5",
   "metadata": {
    "ExecuteTime": {
     "end_time": "2023-04-17T13:33:12.752140Z",
     "start_time": "2023-04-17T13:33:12.737632Z"
    }
   },
   "outputs": [],
   "source": [
    "# em3 = 0.846, em5=1.163, em8=1.423\n",
    "Em_dict = {3:0.846, 5:1.163, 8:1.423}\n",
    "m_output = 8\n",
    "Em = Em_dict[m_output]"
   ]
  },
  {
   "cell_type": "code",
   "execution_count": 3,
   "id": "15c3710a",
   "metadata": {
    "ExecuteTime": {
     "end_time": "2023-04-17T13:33:12.768143Z",
     "start_time": "2023-04-17T13:33:12.754139Z"
    },
    "code_folding": [
     0,
     7,
     14
    ]
   },
   "outputs": [],
   "source": [
    "def generate_data(N=80):\n",
    "    X = np.random.rand(N)[:, None] * 10 - 5  # Inputs, shape N x 1\n",
    "    F = 2.5 * np.sin(6 * X) + np.cos(3 * X)  # Mean function values\n",
    "    NoiseVar = 2 * np.exp(-(X - 2) ** 2 / 4) + 0.3  # Noise variances\n",
    "    Y = F + np.random.randn(N, 1) * np.sqrt(NoiseVar)  # Noisy data\n",
    "    return X, Y, NoiseVar\n",
    "\n",
    "def sampling_position(num_points, lower_bounds, upper_bounds, seed=0, ):\n",
    "    sampler = qmc.LatinHypercube(d=len(lower_bounds), seed=seed)\n",
    "    sample = sampler.random(n=num_points)\n",
    "    points_position = qmc.scale(sample, lower_bounds, upper_bounds)\n",
    "\n",
    "    return points_position\n",
    "\n",
    "def sixhump(x):\n",
    "    x1 = x[0]\n",
    "    x2 = x[1]\n",
    "    z = (4 - 2.1 * x1 ** 2 + x1 ** 4 / 3) * x1 ** 2 + x1 * x2 + (-4 + 4 * x2 ** 2) * x2 ** 2\n",
    "    sx = np.sqrt(np.abs(x).sum())\n",
    "    noise = np.random.normal(loc=0, scale=np.abs(x).sum())\n",
    "    Gx = z + 0.8 * sx\n",
    "    # print(\"z=\", z, \"noise=\", noise, \"Gx=\", Gx)\n",
    "    return -(z + noise), Gx\n",
    "\n",
    "def ackley(x):\n",
    "    n = 2\n",
    "    a = 20;\n",
    "    b = 0.2;\n",
    "    c = 2 * np.pi\n",
    "    s1 = 0\n",
    "    s2 = 0\n",
    "    for i in range(0, n):\n",
    "        s1 = s1 + x[i] ** 2\n",
    "        s2 = s2 + math.cos(c * x[i])\n",
    "    z = -a * math.exp(-b * math.sqrt(1 / n * s1)) - math.exp(1 / n * s2) + a + math.exp(1)\n",
    "    # np.random.seed(0)\n",
    "    noise = np.random.normal(loc=0, scale=np.abs(x).sum())\n",
    "    sx = np.sqrt(np.abs(x).sum())\n",
    "    Gx = -z + Em * sx#\n",
    "\n",
    "    # print(\"z=\", z, \"noise=\", noise, \"Gx=\", Gx)\n",
    "    return -z + noise, Gx\n",
    "\n",
    "def g_sin1d(x):\n",
    "    z = 2 * np.sin(6 * np.pi * x) - 3 * x\n",
    "    noise = np.random.normal(loc=0, scale=(0.2 + x * 3), size=x.shape[0])\n",
    "    sx = 0.2 + x * 3\n",
    "    Gx = z + Em * sx\n",
    "    return z + noise, Gx[0]\n",
    "#     return z, Gx[0]\n",
    "\n",
    "def get_h(x):\n",
    "    h = -10000\n",
    "    for i in range(m_output):\n",
    "        z = 2 * np.sin(6 * np.pi * x) - 3 * x\n",
    "        noise = np.random.normal(loc=0, scale=(0.2 + x * 3), size=x.shape[0])\n",
    "        h = max(h, z+noise)\n",
    "    return h"
   ]
  },
  {
   "cell_type": "markdown",
   "id": "09d373bf",
   "metadata": {},
   "source": [
    "T5 = 13, T8=7,  i=3"
   ]
  },
  {
   "cell_type": "code",
   "execution_count": 4,
   "id": "4a213c06",
   "metadata": {
    "ExecuteTime": {
     "end_time": "2023-04-17T13:33:12.784147Z",
     "start_time": "2023-04-17T13:33:12.769143Z"
    }
   },
   "outputs": [],
   "source": [
    "f = g_sin1d\n",
    "M_s = 25\n",
    "num_init = 3\n",
    "n_rep = 15\n",
    "num_design = 5000\n",
    "T = 7\n",
    "trials = 50\n",
    "# l_bounds = [-20, -20]\n",
    "# u_bounds = [20, 20]\n",
    "l_bounds = [0]\n",
    "u_bounds = [1]\n",
    "dim = len(l_bounds)\n",
    "\n",
    "G1e = np.zeros([trials, (T + num_init) * m_output, n_rep])\n",
    "G2e = np.zeros([trials, (T + num_init) , n_rep])"
   ]
  },
  {
   "cell_type": "markdown",
   "id": "11bbced8",
   "metadata": {},
   "source": [
    "### proposed"
   ]
  },
  {
   "cell_type": "code",
   "execution_count": 5,
   "id": "01483dbc",
   "metadata": {
    "ExecuteTime": {
     "end_time": "2023-04-17T13:42:08.748736Z",
     "start_time": "2023-04-17T13:33:12.785148Z"
    },
    "code_folding": [
     0
    ],
    "scrolled": true
   },
   "outputs": [
    {
     "name": "stdout",
     "output_type": "stream",
     "text": [
      "trial= 0\n"
     ]
    },
    {
     "name": "stderr",
     "output_type": "stream",
     "text": [
      " D:\\Users\\W\\anaconda3\\envs\\torch\\lib\\site-packages\\gpytorch\\lazy\\lazy_tensor.py:1810: UserWarning:torch.triangular_solve is deprecated in favor of torch.linalg.solve_triangularand will be removed in a future PyTorch release.\n",
      "torch.linalg.solve_triangular has its arguments reversed and does not return a copy of one of the inputs.\n",
      "X = torch.triangular_solve(B, A).solution\n",
      "should be replaced with\n",
      "X = torch.linalg.solve_triangular(A, B). (Triggered internally at  C:\\cb\\pytorch_1000000000000\\work\\aten\\src\\ATen\\native\\BatchLinearAlgebra.cpp:2189.)\n"
     ]
    },
    {
     "name": "stdout",
     "output_type": "stream",
     "text": [
      "trial= 1\n",
      "trial= 2\n",
      "trial= 3\n",
      "trial= 4\n",
      "trial= 5\n",
      "trial= 6\n",
      "trial= 7\n",
      "trial= 8\n",
      "trial= 9\n",
      "trial= 10\n",
      "trial= 11\n",
      "trial= 12\n",
      "trial= 13\n",
      "trial= 14\n",
      "trial= 15\n",
      "trial= 16\n",
      "trial= 17\n",
      "trial= 18\n",
      "trial= 19\n",
      "trial= 20\n",
      "trial= 21\n",
      "trial= 22\n",
      "trial= 23\n",
      "trial= 24\n",
      "trial= 25\n",
      "trial= 26\n",
      "trial= 27\n",
      "trial= 28\n",
      "trial= 29\n",
      "trial= 30\n",
      "trial= 31\n",
      "trial= 32\n",
      "trial= 33\n",
      "trial= 34\n",
      "trial= 35\n",
      "trial= 36\n",
      "trial= 37\n",
      "trial= 38\n",
      "trial= 39\n",
      "trial= 40\n",
      "trial= 41\n",
      "trial= 42\n",
      "trial= 43\n",
      "trial= 44\n",
      "trial= 45\n",
      "trial= 46\n",
      "trial= 47\n",
      "trial= 48\n",
      "trial= 49\n"
     ]
    }
   ],
   "source": [
    "for e in range(trials):\n",
    "    print(\"trial=\", e)\n",
    "    queried_index = []\n",
    "    dup_index = []\n",
    "    dup_dict = {}\n",
    "    uni_index = []\n",
    "    num_init_1 = m_output * num_init\n",
    "    unique_iter = list(range(num_init_1))\n",
    "    dup_iter = []\n",
    "    # get initial data\n",
    "\n",
    "    sampler = qmc.LatinHypercube(d=len(l_bounds), seed=e)\n",
    "    sample = sampler.random(n=num_init_1)\n",
    "    init_X = qmc.scale(sample, l_bounds, u_bounds)\n",
    "    init_Y = -100 * np.ones(shape=[num_init_1, n_rep])\n",
    "    y = []\n",
    "    \n",
    "    for row, pos in enumerate(init_X):\n",
    "        for col in range(n_rep):\n",
    "            init_Y[row, col] = f(pos)[0]\n",
    "\n",
    "\n",
    "    init_ym = np.mean(init_Y, axis=1)  # gp_Z\n",
    "    init_Yv =  np.var(init_Y, axis=1, ddof=1)\n",
    "    init_Yvar = np.var(init_Y, axis=1, ddof=1)/ n_rep\n",
    "#     init_X = torch.from_numpy(init_X)\n",
    "#     init_ym = torch.from_numpy(np.mean(init_Y, axis=1)).unsqueeze(1)  # gp_Z\n",
    "#     init_Yv =  torch.from_numpy(np.var(init_Y, axis=1, ddof=1)).unsqueeze(1)\n",
    "#     init_Yvar = torch.from_numpy(np.var(init_Y, axis=1, ddof=1)).unsqueeze(1) / n_rep\n",
    "\n",
    "    G1 = np.zeros([(T + num_init) * m_output, n_rep])\n",
    "    for i in range(num_init_1):\n",
    "        G1[i, :] = f(init_X[np.argmax(init_ym[:i + 1] + Em * np.sqrt(init_Yv[:i + 1]))])[1]\n",
    "        \n",
    "    design_X = torch.from_numpy(sampling_position(num_points=num_design,lower_bounds=l_bounds, upper_bounds=u_bounds, seed=0))\n",
    "    result_dic = {}\n",
    "    for i in range(num_design):\n",
    "        result_dic[i] = [0, []]\n",
    "        \n",
    "    train_X = init_X\n",
    "    train_ym = init_ym.reshape(-1, 1)\n",
    "    train_yv = init_Yv.reshape(-1, 1)\n",
    "    train_yvar = init_Yvar.reshape(-1, 1)\n",
    "    for iteration in range(T * m_output):\n",
    "        # fit GP\n",
    "#         print(\"iteration= \", iteration)\n",
    "        model_Z = FixedNoiseGP(torch.from_numpy(train_X), torch.from_numpy(train_ym), torch.from_numpy(train_yvar))\n",
    "        mll_Z = gpytorch.mlls.ExactMarginalLogLikelihood(model_Z.likelihood, model_Z)\n",
    "        mll_Z.train()\n",
    "        botorch.optim.fit.fit_gpytorch_scipy(mll_Z)\n",
    "        model_L = SingleTaskGP(torch.from_numpy(train_X),\n",
    "                torch.log(torch.sqrt(torch.from_numpy(train_yv))/(M_s - torch.sqrt(torch.from_numpy((train_yv))))))\n",
    "#         model_L = FixedNoiseGP(torch.from_numpy(train_X),\n",
    "#                 torch.log(torch.sqrt(torch.from_numpy(train_yv))/(M_s - torch.sqrt(torch.from_numpy((train_yv))))),\n",
    "#                              torch.full_like(torch.from_numpy(train_yv), 10e-6))\n",
    "        mll_L = ExactMarginalLogLikelihood(model_L.likelihood, model_L)\n",
    "        mll_L.train()\n",
    "        fit_gpytorch_model(mll_L)\n",
    "\n",
    "        # acquisition\n",
    "        Z_m = model_Z.posterior(design_X).mean\n",
    "        Z_v = model_Z.posterior(design_X).variance\n",
    "        L_m = model_L.posterior(design_X).mean\n",
    "        L_v = model_L.posterior(design_X).variance\n",
    "        \n",
    "        beta = 50 * (0.85)**iteration\n",
    "        ucb_Z_value = Z_m + (beta * Z_v).sqrt()\n",
    "        s = L_m + (beta * L_v).sqrt()\n",
    "        pi_ucb_L = Em * M_s*torch.pow(1+torch.exp(-s), -1)  # logit\n",
    "        het_ucb = ucb_Z_value + pi_ucb_L\n",
    "        max_index = torch.argmax(het_ucb).tolist()\n",
    "        next_X = design_X[max_index].numpy()\n",
    "        result_dic[max_index][0] = result_dic[max_index][0] + 1\n",
    "        result_dic[max_index][1].append(iteration)\n",
    "        \n",
    "        # query f, next point\n",
    "        n_replications = np.zeros([n_rep, 1])\n",
    "        for i in range(n_rep):\n",
    "            n_replications[i] = f(next_X)[0]\n",
    "            \n",
    "        y.append(list(n_replications))\n",
    "        train_X = []\n",
    "        train_ym = []\n",
    "        train_yv = []\n",
    "        train_yvar = []\n",
    "        for k, v in result_dic.items():\n",
    "            if v[0] > 0:\n",
    "                all_reps = []\n",
    "                for i in v[1]:\n",
    "                    all_reps.append(y[i])\n",
    "\n",
    "                ym = np.mean(all_reps)\n",
    "                yv = np.var(all_reps, ddof=1)\n",
    "\n",
    "                train_X.append(design_X[k].numpy()[0])\n",
    "                train_ym.append(ym)\n",
    "                train_yv = np.vstack([np.array(train_yv).reshape(-1, 1), np.array([yv])])\n",
    "                train_yvar.append(yv/(v[0]*n_rep))\n",
    "\n",
    "        train_X = np.vstack([init_X, np.array(train_X).reshape(-1, 1)])\n",
    "        train_ym = np.vstack([init_ym.reshape(-1, 1),  np.array(train_ym).reshape(-1, 1)])\n",
    "        train_yv = np.vstack([init_Yv.reshape(-1, 1), train_yv])\n",
    "        train_yvar = np.vstack([init_Yvar.reshape(-1, 1), np.array(train_yvar).reshape(-1, 1)])\n",
    "        G1[num_init_1 + iteration, :] = f(train_X[np.argmax(train_ym + Em * np.sqrt(train_yv))])[1]\n",
    "\n",
    "    G1e[e] = G1"
   ]
  },
  {
   "cell_type": "markdown",
   "id": "1d7a57df",
   "metadata": {},
   "source": [
    "### benchmark"
   ]
  },
  {
   "cell_type": "code",
   "execution_count": 6,
   "id": "d5d84aff",
   "metadata": {
    "ExecuteTime": {
     "end_time": "2023-04-17T13:42:31.021987Z",
     "start_time": "2023-04-17T13:42:08.749737Z"
    },
    "code_folding": [
     0
    ],
    "scrolled": true
   },
   "outputs": [
    {
     "name": "stdout",
     "output_type": "stream",
     "text": [
      "trials=  0\n",
      "trials=  1\n",
      "trials=  2\n",
      "trials=  3\n",
      "trials=  4\n",
      "trials=  5\n",
      "trials=  6\n",
      "trials=  7\n",
      "trials=  8\n",
      "trials=  9\n",
      "trials=  10\n",
      "trials=  11\n",
      "trials=  12\n",
      "trials=  13\n",
      "trials=  14\n",
      "trials=  15\n",
      "trials=  16\n",
      "trials=  17\n",
      "trials=  18\n",
      "trials=  19\n",
      "trials=  20\n",
      "trials=  21\n",
      "trials=  22\n",
      "trials=  23\n",
      "trials=  24\n",
      "trials=  25\n",
      "trials=  26\n",
      "trials=  27\n",
      "trials=  28\n",
      "trials=  29\n",
      "trials=  30\n",
      "trials=  31\n",
      "trials=  32\n",
      "trials=  33\n",
      "trials=  34\n",
      "trials=  35\n",
      "trials=  36\n",
      "trials=  37\n",
      "trials=  38\n",
      "trials=  39\n",
      "trials=  40\n",
      "trials=  41\n",
      "trials=  42\n",
      "trials=  43\n",
      "trials=  44\n",
      "trials=  45\n",
      "trials=  46\n",
      "trials=  47\n",
      "trials=  48\n",
      "trials=  49\n"
     ]
    }
   ],
   "source": [
    "for e in range(trials):\n",
    "    print(\"trials= \", e)\n",
    "    # get initial data\n",
    "    sampler = qmc.LatinHypercube(d=len(l_bounds), seed=e)\n",
    "    sample = sampler.random(n=num_init)\n",
    "    init_X = qmc.scale(sample, l_bounds, u_bounds)\n",
    "    init_h = -100 * np.ones(shape=[num_init, n_rep])\n",
    "    for i in range(num_init):\n",
    "        for j in range(n_rep):\n",
    "            init_h[i, j ]= get_h(init_X[i])\n",
    "     \n",
    "    h = []\n",
    "    init_hm = np.mean(init_h, axis=1)  # gp_Z\n",
    "    init_Hv =  np.var(init_h, axis=1, ddof=1)\n",
    "    init_Hvar = np.var(init_h, axis=1, ddof=1)/ n_rep\n",
    "\n",
    "    G2 = np.zeros([T + num_init, n_rep])\n",
    "    for i in range(num_init):\n",
    "        G2[i, :] = f(init_X[np.argmax(init_hm[:i+1])])[1]\n",
    "#         G2[i, :] = f(init_X[np.argmax(init_ym[:i + 1] + Em * np.sqrt(init_Yv[:i + 1]))])[1]\n",
    "        \n",
    "    design_X = torch.from_numpy(sampling_position(num_points=num_design,lower_bounds=l_bounds, upper_bounds=u_bounds, seed=0))\n",
    "    result_dic = {}\n",
    "    for i in range(num_design):\n",
    "        result_dic[i] = [0, []]\n",
    "        \n",
    "    train_X = init_X\n",
    "    train_hm = init_hm.reshape(-1, 1)\n",
    "    train_hv = init_Hv.reshape(-1, 1)\n",
    "    train_hvar = init_Hvar.reshape(-1, 1)\n",
    "    for iteration in range(T):\n",
    "#         print(\"iteration= \", iteration)\n",
    "        model_Z = FixedNoiseGP(torch.from_numpy(train_X), torch.from_numpy(train_hm), torch.from_numpy(train_hvar))\n",
    "        mll_Z = gpytorch.mlls.ExactMarginalLogLikelihood(model_Z.likelihood, model_Z)\n",
    "        mll_Z.train()\n",
    "        botorch.optim.fit.fit_gpytorch_scipy(mll_Z)\n",
    "#         model_L = SingleTaskGP(torch.from_numpy(train_X),\n",
    "#                 torch.log(torch.sqrt(torch.from_numpy(train_hv))/(M_s - torch.sqrt(torch.from_numpy((train_hv))))))\n",
    "\n",
    "#         mll_L = ExactMarginalLogLikelihood(model_L.likelihood, model_L)\n",
    "#         mll_L.train()\n",
    "#         fit_gpytorch_model(mll_L)\n",
    "\n",
    "        # acquisition\n",
    "        Z_m = model_Z.posterior(design_X).mean\n",
    "        Z_v = model_Z.posterior(design_X).variance\n",
    "#         L_m = model_L.posterior(design_X).mean\n",
    "#         L_v = model_L.posterior(design_X).variance\n",
    "\n",
    "        beta = 50 * (0.85)**iteration\n",
    "        het_ucb = Z_m + (beta * Z_v).sqrt()\n",
    "#         s = L_m + (beta * L_v).sqrt()\n",
    "#         pi_ucb_L = Em * M_s*torch.pow(1+torch.exp(-s), -1)  # logit\n",
    "#         het_ucb = ucb_Z_value + pi_ucb_L\n",
    "\n",
    "        max_index = torch.argmax(het_ucb).tolist()\n",
    "        next_X = design_X[max_index].numpy()\n",
    "        result_dic[max_index][0] = result_dic[max_index][0] + 1\n",
    "        result_dic[max_index][1].append(iteration)\n",
    "        \n",
    "        # query f, next point\n",
    "        n_replications = np.zeros([n_rep, 1])\n",
    "        for i in range(n_rep):\n",
    "            n_replications[i] = get_h(next_X)\n",
    "            \n",
    "        h.append(list(n_replications))\n",
    "        train_X = []\n",
    "        train_hm = []\n",
    "        train_hv = []\n",
    "        train_hvar = []\n",
    "        for k, v in result_dic.items():\n",
    "            if v[0] > 0:\n",
    "                all_reps = []\n",
    "                for i in v[1]:\n",
    "                    all_reps.append(h[i])\n",
    "\n",
    "                hm = np.mean(all_reps)\n",
    "                hv = np.var(all_reps, ddof=1)\n",
    "\n",
    "                train_X.append(design_X[k].numpy()[0])\n",
    "                train_hm.append(hm)\n",
    "                train_hv = np.vstack([np.array(train_hv).reshape(-1, 1), np.array([hv])])\n",
    "                train_hvar.append(hv/(v[0]*n_rep))\n",
    "\n",
    "        train_X = np.vstack([init_X, np.array(train_X).reshape(-1, 1)])\n",
    "        train_hm = np.vstack([init_hm.reshape(-1, 1),  np.array(train_hm).reshape(-1, 1)])\n",
    "        train_hv = np.vstack([init_Hv.reshape(-1, 1), train_hv])\n",
    "        train_hvar = np.vstack([init_Hvar.reshape(-1, 1), np.array(train_hvar).reshape(-1, 1)])\n",
    "        G2[num_init + iteration, :] = f(train_X[np.argmax(train_hm)])[1] \n",
    "    G2e[e] = G2"
   ]
  },
  {
   "cell_type": "code",
   "execution_count": 48,
   "id": "a9b743e9",
   "metadata": {
    "ExecuteTime": {
     "end_time": "2023-04-19T13:15:12.459621Z",
     "start_time": "2023-04-19T13:15:10.809199Z"
    },
    "scrolled": false
   },
   "outputs": [
    {
     "ename": "ValueError",
     "evalue": "x and y must be the same size",
     "output_type": "error",
     "traceback": [
      "\u001b[1;31m---------------------------------------------------------------------------\u001b[0m",
      "\u001b[1;31mValueError\u001b[0m                                Traceback (most recent call last)",
      "Input \u001b[1;32mIn [48]\u001b[0m, in \u001b[0;36m<cell line: 7>\u001b[1;34m()\u001b[0m\n\u001b[0;32m      5\u001b[0m plt\u001b[38;5;241m.\u001b[39mscatter(\u001b[38;5;28mrange\u001b[39m(m_output\u001b[38;5;241m*\u001b[39mn_rep\u001b[38;5;241m*\u001b[39m(T\u001b[38;5;241m+\u001b[39mnum_init)), np\u001b[38;5;241m.\u001b[39mmean(G1e, axis\u001b[38;5;241m=\u001b[39m(\u001b[38;5;241m0\u001b[39m))\u001b[38;5;241m.\u001b[39mravel(), s\u001b[38;5;241m=\u001b[39m\u001b[38;5;241m1\u001b[39m, c\u001b[38;5;241m=\u001b[39m\u001b[38;5;124m'\u001b[39m\u001b[38;5;124mr\u001b[39m\u001b[38;5;124m'\u001b[39m)\n\u001b[0;32m      6\u001b[0m G2ee \u001b[38;5;241m=\u001b[39m np\u001b[38;5;241m.\u001b[39mtile(G2e, (m_output))\n\u001b[1;32m----> 7\u001b[0m \u001b[43mplt\u001b[49m\u001b[38;5;241;43m.\u001b[39;49m\u001b[43mscatter\u001b[49m\u001b[43m(\u001b[49m\u001b[38;5;28;43mrange\u001b[39;49m\u001b[43m(\u001b[49m\u001b[43mm_output\u001b[49m\u001b[38;5;241;43m*\u001b[39;49m\u001b[43mn_rep\u001b[49m\u001b[38;5;241;43m*\u001b[39;49m\u001b[43m(\u001b[49m\u001b[43mT\u001b[49m\u001b[38;5;241;43m+\u001b[39;49m\u001b[43mnum_init\u001b[49m\u001b[43m)\u001b[49m\u001b[43m)\u001b[49m\u001b[43m,\u001b[49m\u001b[43m \u001b[49m\u001b[43mnp\u001b[49m\u001b[38;5;241;43m.\u001b[39;49m\u001b[43mmean\u001b[49m\u001b[43m(\u001b[49m\u001b[43mG2ee\u001b[49m\u001b[43m,\u001b[49m\u001b[43m \u001b[49m\u001b[43maxis\u001b[49m\u001b[38;5;241;43m=\u001b[39;49m\u001b[43m(\u001b[49m\u001b[38;5;241;43m0\u001b[39;49m\u001b[43m)\u001b[49m\u001b[43m)\u001b[49m\u001b[38;5;241;43m.\u001b[39;49m\u001b[43mravel\u001b[49m\u001b[43m(\u001b[49m\u001b[43m)\u001b[49m\u001b[43m,\u001b[49m\u001b[43m \u001b[49m\u001b[43ms\u001b[49m\u001b[38;5;241;43m=\u001b[39;49m\u001b[38;5;241;43m7\u001b[39;49m\u001b[43m,\u001b[49m\u001b[43m \u001b[49m\u001b[43mc\u001b[49m\u001b[38;5;241;43m=\u001b[39;49m\u001b[38;5;124;43m'\u001b[39;49m\u001b[38;5;124;43mb\u001b[39;49m\u001b[38;5;124;43m'\u001b[39;49m\u001b[43m)\u001b[49m\n\u001b[0;32m      8\u001b[0m \u001b[38;5;66;03m# plt.title(f\"trials={trials},init={num_init},m={m_output},n={n_rep},T={T}, maximum={-4.9}\")\u001b[39;00m\n\u001b[0;32m      9\u001b[0m plt\u001b[38;5;241m.\u001b[39mtitle(\u001b[38;5;124mf\u001b[39m\u001b[38;5;124m\"\u001b[39m\u001b[38;5;124m1D function  m=\u001b[39m\u001b[38;5;132;01m{\u001b[39;00mm_output\u001b[38;5;132;01m}\u001b[39;00m\u001b[38;5;124m\"\u001b[39m, fontsize\u001b[38;5;241m=\u001b[39m\u001b[38;5;241m15\u001b[39m)\n",
      "File \u001b[1;32mD:\\Users\\W\\anaconda3\\envs\\torch\\lib\\site-packages\\matplotlib\\pyplot.py:2807\u001b[0m, in \u001b[0;36mscatter\u001b[1;34m(x, y, s, c, marker, cmap, norm, vmin, vmax, alpha, linewidths, edgecolors, plotnonfinite, data, **kwargs)\u001b[0m\n\u001b[0;32m   2802\u001b[0m \u001b[38;5;129m@_copy_docstring_and_deprecators\u001b[39m(Axes\u001b[38;5;241m.\u001b[39mscatter)\n\u001b[0;32m   2803\u001b[0m \u001b[38;5;28;01mdef\u001b[39;00m \u001b[38;5;21mscatter\u001b[39m(\n\u001b[0;32m   2804\u001b[0m         x, y, s\u001b[38;5;241m=\u001b[39m\u001b[38;5;28;01mNone\u001b[39;00m, c\u001b[38;5;241m=\u001b[39m\u001b[38;5;28;01mNone\u001b[39;00m, marker\u001b[38;5;241m=\u001b[39m\u001b[38;5;28;01mNone\u001b[39;00m, cmap\u001b[38;5;241m=\u001b[39m\u001b[38;5;28;01mNone\u001b[39;00m, norm\u001b[38;5;241m=\u001b[39m\u001b[38;5;28;01mNone\u001b[39;00m,\n\u001b[0;32m   2805\u001b[0m         vmin\u001b[38;5;241m=\u001b[39m\u001b[38;5;28;01mNone\u001b[39;00m, vmax\u001b[38;5;241m=\u001b[39m\u001b[38;5;28;01mNone\u001b[39;00m, alpha\u001b[38;5;241m=\u001b[39m\u001b[38;5;28;01mNone\u001b[39;00m, linewidths\u001b[38;5;241m=\u001b[39m\u001b[38;5;28;01mNone\u001b[39;00m, \u001b[38;5;241m*\u001b[39m,\n\u001b[0;32m   2806\u001b[0m         edgecolors\u001b[38;5;241m=\u001b[39m\u001b[38;5;28;01mNone\u001b[39;00m, plotnonfinite\u001b[38;5;241m=\u001b[39m\u001b[38;5;28;01mFalse\u001b[39;00m, data\u001b[38;5;241m=\u001b[39m\u001b[38;5;28;01mNone\u001b[39;00m, \u001b[38;5;241m*\u001b[39m\u001b[38;5;241m*\u001b[39mkwargs):\n\u001b[1;32m-> 2807\u001b[0m     __ret \u001b[38;5;241m=\u001b[39m \u001b[43mgca\u001b[49m\u001b[43m(\u001b[49m\u001b[43m)\u001b[49m\u001b[38;5;241;43m.\u001b[39;49m\u001b[43mscatter\u001b[49m\u001b[43m(\u001b[49m\n\u001b[0;32m   2808\u001b[0m \u001b[43m        \u001b[49m\u001b[43mx\u001b[49m\u001b[43m,\u001b[49m\u001b[43m \u001b[49m\u001b[43my\u001b[49m\u001b[43m,\u001b[49m\u001b[43m \u001b[49m\u001b[43ms\u001b[49m\u001b[38;5;241;43m=\u001b[39;49m\u001b[43ms\u001b[49m\u001b[43m,\u001b[49m\u001b[43m \u001b[49m\u001b[43mc\u001b[49m\u001b[38;5;241;43m=\u001b[39;49m\u001b[43mc\u001b[49m\u001b[43m,\u001b[49m\u001b[43m \u001b[49m\u001b[43mmarker\u001b[49m\u001b[38;5;241;43m=\u001b[39;49m\u001b[43mmarker\u001b[49m\u001b[43m,\u001b[49m\u001b[43m \u001b[49m\u001b[43mcmap\u001b[49m\u001b[38;5;241;43m=\u001b[39;49m\u001b[43mcmap\u001b[49m\u001b[43m,\u001b[49m\u001b[43m \u001b[49m\u001b[43mnorm\u001b[49m\u001b[38;5;241;43m=\u001b[39;49m\u001b[43mnorm\u001b[49m\u001b[43m,\u001b[49m\n\u001b[0;32m   2809\u001b[0m \u001b[43m        \u001b[49m\u001b[43mvmin\u001b[49m\u001b[38;5;241;43m=\u001b[39;49m\u001b[43mvmin\u001b[49m\u001b[43m,\u001b[49m\u001b[43m \u001b[49m\u001b[43mvmax\u001b[49m\u001b[38;5;241;43m=\u001b[39;49m\u001b[43mvmax\u001b[49m\u001b[43m,\u001b[49m\u001b[43m \u001b[49m\u001b[43malpha\u001b[49m\u001b[38;5;241;43m=\u001b[39;49m\u001b[43malpha\u001b[49m\u001b[43m,\u001b[49m\u001b[43m \u001b[49m\u001b[43mlinewidths\u001b[49m\u001b[38;5;241;43m=\u001b[39;49m\u001b[43mlinewidths\u001b[49m\u001b[43m,\u001b[49m\n\u001b[0;32m   2810\u001b[0m \u001b[43m        \u001b[49m\u001b[43medgecolors\u001b[49m\u001b[38;5;241;43m=\u001b[39;49m\u001b[43medgecolors\u001b[49m\u001b[43m,\u001b[49m\u001b[43m \u001b[49m\u001b[43mplotnonfinite\u001b[49m\u001b[38;5;241;43m=\u001b[39;49m\u001b[43mplotnonfinite\u001b[49m\u001b[43m,\u001b[49m\n\u001b[0;32m   2811\u001b[0m \u001b[43m        \u001b[49m\u001b[38;5;241;43m*\u001b[39;49m\u001b[38;5;241;43m*\u001b[39;49m\u001b[43m(\u001b[49m\u001b[43m{\u001b[49m\u001b[38;5;124;43m\"\u001b[39;49m\u001b[38;5;124;43mdata\u001b[39;49m\u001b[38;5;124;43m\"\u001b[39;49m\u001b[43m:\u001b[49m\u001b[43m \u001b[49m\u001b[43mdata\u001b[49m\u001b[43m}\u001b[49m\u001b[43m \u001b[49m\u001b[38;5;28;43;01mif\u001b[39;49;00m\u001b[43m \u001b[49m\u001b[43mdata\u001b[49m\u001b[43m \u001b[49m\u001b[38;5;129;43;01mis\u001b[39;49;00m\u001b[43m \u001b[49m\u001b[38;5;129;43;01mnot\u001b[39;49;00m\u001b[43m \u001b[49m\u001b[38;5;28;43;01mNone\u001b[39;49;00m\u001b[43m \u001b[49m\u001b[38;5;28;43;01melse\u001b[39;49;00m\u001b[43m \u001b[49m\u001b[43m{\u001b[49m\u001b[43m}\u001b[49m\u001b[43m)\u001b[49m\u001b[43m,\u001b[49m\u001b[43m \u001b[49m\u001b[38;5;241;43m*\u001b[39;49m\u001b[38;5;241;43m*\u001b[39;49m\u001b[43mkwargs\u001b[49m\u001b[43m)\u001b[49m\n\u001b[0;32m   2812\u001b[0m     sci(__ret)\n\u001b[0;32m   2813\u001b[0m     \u001b[38;5;28;01mreturn\u001b[39;00m __ret\n",
      "File \u001b[1;32mD:\\Users\\W\\anaconda3\\envs\\torch\\lib\\site-packages\\matplotlib\\__init__.py:1412\u001b[0m, in \u001b[0;36m_preprocess_data.<locals>.inner\u001b[1;34m(ax, data, *args, **kwargs)\u001b[0m\n\u001b[0;32m   1409\u001b[0m \u001b[38;5;129m@functools\u001b[39m\u001b[38;5;241m.\u001b[39mwraps(func)\n\u001b[0;32m   1410\u001b[0m \u001b[38;5;28;01mdef\u001b[39;00m \u001b[38;5;21minner\u001b[39m(ax, \u001b[38;5;241m*\u001b[39margs, data\u001b[38;5;241m=\u001b[39m\u001b[38;5;28;01mNone\u001b[39;00m, \u001b[38;5;241m*\u001b[39m\u001b[38;5;241m*\u001b[39mkwargs):\n\u001b[0;32m   1411\u001b[0m     \u001b[38;5;28;01mif\u001b[39;00m data \u001b[38;5;129;01mis\u001b[39;00m \u001b[38;5;28;01mNone\u001b[39;00m:\n\u001b[1;32m-> 1412\u001b[0m         \u001b[38;5;28;01mreturn\u001b[39;00m \u001b[43mfunc\u001b[49m\u001b[43m(\u001b[49m\u001b[43max\u001b[49m\u001b[43m,\u001b[49m\u001b[43m \u001b[49m\u001b[38;5;241;43m*\u001b[39;49m\u001b[38;5;28;43mmap\u001b[39;49m\u001b[43m(\u001b[49m\u001b[43msanitize_sequence\u001b[49m\u001b[43m,\u001b[49m\u001b[43m \u001b[49m\u001b[43margs\u001b[49m\u001b[43m)\u001b[49m\u001b[43m,\u001b[49m\u001b[43m \u001b[49m\u001b[38;5;241;43m*\u001b[39;49m\u001b[38;5;241;43m*\u001b[39;49m\u001b[43mkwargs\u001b[49m\u001b[43m)\u001b[49m\n\u001b[0;32m   1414\u001b[0m     bound \u001b[38;5;241m=\u001b[39m new_sig\u001b[38;5;241m.\u001b[39mbind(ax, \u001b[38;5;241m*\u001b[39margs, \u001b[38;5;241m*\u001b[39m\u001b[38;5;241m*\u001b[39mkwargs)\n\u001b[0;32m   1415\u001b[0m     auto_label \u001b[38;5;241m=\u001b[39m (bound\u001b[38;5;241m.\u001b[39marguments\u001b[38;5;241m.\u001b[39mget(label_namer)\n\u001b[0;32m   1416\u001b[0m                   \u001b[38;5;129;01mor\u001b[39;00m bound\u001b[38;5;241m.\u001b[39mkwargs\u001b[38;5;241m.\u001b[39mget(label_namer))\n",
      "File \u001b[1;32mD:\\Users\\W\\anaconda3\\envs\\torch\\lib\\site-packages\\matplotlib\\axes\\_axes.py:4369\u001b[0m, in \u001b[0;36mAxes.scatter\u001b[1;34m(self, x, y, s, c, marker, cmap, norm, vmin, vmax, alpha, linewidths, edgecolors, plotnonfinite, **kwargs)\u001b[0m\n\u001b[0;32m   4367\u001b[0m y \u001b[38;5;241m=\u001b[39m np\u001b[38;5;241m.\u001b[39mma\u001b[38;5;241m.\u001b[39mravel(y)\n\u001b[0;32m   4368\u001b[0m \u001b[38;5;28;01mif\u001b[39;00m x\u001b[38;5;241m.\u001b[39msize \u001b[38;5;241m!=\u001b[39m y\u001b[38;5;241m.\u001b[39msize:\n\u001b[1;32m-> 4369\u001b[0m     \u001b[38;5;28;01mraise\u001b[39;00m \u001b[38;5;167;01mValueError\u001b[39;00m(\u001b[38;5;124m\"\u001b[39m\u001b[38;5;124mx and y must be the same size\u001b[39m\u001b[38;5;124m\"\u001b[39m)\n\u001b[0;32m   4371\u001b[0m \u001b[38;5;28;01mif\u001b[39;00m s \u001b[38;5;129;01mis\u001b[39;00m \u001b[38;5;28;01mNone\u001b[39;00m:\n\u001b[0;32m   4372\u001b[0m     s \u001b[38;5;241m=\u001b[39m (\u001b[38;5;241m20\u001b[39m \u001b[38;5;28;01mif\u001b[39;00m rcParams[\u001b[38;5;124m'\u001b[39m\u001b[38;5;124m_internal.classic_mode\u001b[39m\u001b[38;5;124m'\u001b[39m] \u001b[38;5;28;01melse\u001b[39;00m\n\u001b[0;32m   4373\u001b[0m          rcParams[\u001b[38;5;124m'\u001b[39m\u001b[38;5;124mlines.markersize\u001b[39m\u001b[38;5;124m'\u001b[39m] \u001b[38;5;241m*\u001b[39m\u001b[38;5;241m*\u001b[39m \u001b[38;5;241m2.0\u001b[39m)\n",
      "\u001b[1;31mValueError\u001b[0m: x and y must be the same size"
     ]
    },
    {
     "data": {
      "image/png": "[encoded data removed]",
      "text/plain": [
       "<Figure size 1200x600 with 1 Axes>"
      ]
     },
     "metadata": {},
     "output_type": "display_data"
    }
   ],
   "source": [
    "plt.figure(figsize=[12,6])\n",
    "# plt.scatter(range(G1.size), G1.ravel(), s=2, c='r')\n",
    "# plt.scatter(range(G2.size), G2.ravel(), s=2, c='b')\n",
    "\n",
    "plt.scatter(range(m_output*n_rep*(T+num_init)), np.mean(G1e, axis=(0)).ravel(), s=1, c='r')\n",
    "G2ee = np.tile(G2e, (m_output))\n",
    "plt.scatter(range(m_output*n_rep*(T+num_init)), np.mean(G2ee, axis=(0)).ravel(), s=7, c='b')\n",
    "# plt.title(f\"trials={trials},init={num_init},m={m_output},n={n_rep},T={T}, maximum={-4.9}\")\n",
    "plt.title(f\"1D function  m={m_output}\", fontsize=15)\n",
    "plt.xlabel(\"the number of function evaluations\", fontsize=15)\n",
    "plt.ylabel(\"$G(\\hat{x}_{t}^{*})$\", fontsize=13,rotation = 0, loc='bottom')\n",
    "\n",
    "plt.legend([\"MA-UCB\", \"benchmark\"], loc=4, prop={'size': 20})\n",
    "\n",
    "plt.savefig(\"D:\\Jupyter_Projs//W//Hetero_GP//G_result_data/1D_m8.pdf\", dpi=500, bbox_inches=\"tight\")"
   ]
  },
  {
   "cell_type": "code",
   "execution_count": 25,
   "id": "0692f3f4",
   "metadata": {
    "ExecuteTime": {
     "end_time": "2023-04-17T13:47:32.599837Z",
     "start_time": "2023-04-17T13:47:32.582831Z"
    }
   },
   "outputs": [],
   "source": [
    "# np.unique(np.where(G1e > 3.2375)[0])\n",
    "# G1e[10].max(), G1e[37].max(), G1e[41].max()"
   ]
  },
  {
   "cell_type": "code",
   "execution_count": 8,
   "id": "6ff1fb70",
   "metadata": {
    "ExecuteTime": {
     "end_time": "2023-04-17T13:42:31.753318Z",
     "start_time": "2023-04-17T13:42:31.738313Z"
    }
   },
   "outputs": [
    {
     "name": "stdout",
     "output_type": "stream",
     "text": [
      "D:\\Jupyter_Projs//W//Hetero_GP//G_result_data//G_m8_g_sin1d\n"
     ]
    }
   ],
   "source": [
    "## dump data\n",
    "import pickle\n",
    "save_path = f'D:\\Jupyter_Projs//W//Hetero_GP//G_result_data//G_m{m_output}_' + f.__name__ \n",
    "print(save_path)\n",
    "G_list = [G1e, G2e]\n",
    "output = open(save_path, 'wb')\n",
    "pickle.dump(G_list , output)\n",
    "output.close()"
   ]
  },
  {
   "cell_type": "code",
   "execution_count": 46,
   "id": "d961b1c1",
   "metadata": {
    "ExecuteTime": {
     "end_time": "2023-04-19T11:51:28.631188Z",
     "start_time": "2023-04-19T11:51:28.616681Z"
    }
   },
   "outputs": [],
   "source": [
    "# read G  data\n",
    "output = open(\"D://Jupyter_Projs//W//Hetero_GP//\\G_result_data//G_m5_g_sin1d\", 'rb')\n",
    "G_list = pickle.load(output)\n",
    "output.close()\n",
    "G1e = G_list[0]\n",
    "G2e = G_list[1]\n",
    "G2ee = np.tile(G2e, (m_output))"
   ]
  },
  {
   "cell_type": "code",
   "execution_count": 47,
   "id": "cc3f2a8f",
   "metadata": {
    "ExecuteTime": {
     "end_time": "2023-04-19T11:51:28.946806Z",
     "start_time": "2023-04-19T11:51:28.942806Z"
    }
   },
   "outputs": [
    {
     "data": {
      "text/plain": [
       "((50, 80, 15), (50, 16, 15), (50, 16, 120))"
      ]
     },
     "execution_count": 47,
     "metadata": {},
     "output_type": "execute_result"
    }
   ],
   "source": [
    "G1e.shape, G2e.shape, G2ee.shape"
   ]
  },
  {
   "cell_type": "code",
   "execution_count": 9,
   "id": "1f08cc8e",
   "metadata": {
    "ExecuteTime": {
     "end_time": "2023-04-17T13:42:31.768825Z",
     "start_time": "2023-04-17T13:42:31.754318Z"
    },
    "code_folding": [
     1
    ],
    "scrolled": false
   },
   "outputs": [],
   "source": [
    "# plt.figure(figsize=[12,6])\n",
    "# # plt.scatter(range(G1.size), G1.ravel(), s=2, c='r')\n",
    "# # plt.scatter(range(G2.size), G2.ravel(), s=2, c='b')\n",
    "\n",
    "# plt.scatter(range(m_output*n_rep*(T+num_init)), np.mean(G1e, axis=(0)).ravel(), s=2, c='r')\n",
    "# G2ee = np.tile(G2e, (m_output))\n",
    "# plt.scatter(range(m_output*n_rep*(T+num_init)), np.mean(G2ee, axis=(0)).ravel(), s=2, c='b')\n",
    "# plt.title(f\"trials={trials},init={num_init},m={m_output},n={n_rep},T={T}, maximum={2.5995}\")\n",
    "# plt.xlabel(\"the number of function evaluations\")\n",
    "# plt.ylabel(\"$G(\\hat{x}_{t}^{*})$\", fontsize=10,rotation = 0, loc='bottom')\n",
    "\n",
    "# plt.legend([\"proposed\", \"benchmark\"])"
   ]
  },
  {
   "cell_type": "code",
   "execution_count": 22,
   "id": "346e20af",
   "metadata": {
    "ExecuteTime": {
     "end_time": "2023-04-17T13:46:10.354985Z",
     "start_time": "2023-04-17T13:46:09.718004Z"
    }
   },
   "outputs": [
    {
     "data": {
      "text/plain": [
       "tensor(3.2375, dtype=torch.float64)"
      ]
     },
     "execution_count": 22,
     "metadata": {},
     "output_type": "execute_result"
    }
   ],
   "source": [
    "g1 = []\n",
    "for x in design_X:\n",
    "    z,g = f(x)\n",
    "    g1.append(g)\n",
    "    \n",
    "max(g1)\n",
    "# plt.scatter(design_X, g1)\n",
    "# plt.scatter(design_X, 0.2 + design_X * 3)"
   ]
  },
  {
   "cell_type": "code",
   "execution_count": null,
   "id": "133f0581",
   "metadata": {},
   "outputs": [],
   "source": []
  },
  {
   "cell_type": "code",
   "execution_count": 11,
   "id": "3330b0f7",
   "metadata": {
    "ExecuteTime": {
     "end_time": "2023-04-17T13:42:32.513491Z",
     "start_time": "2023-04-17T13:42:32.418429Z"
    }
   },
   "outputs": [
    {
     "data": {
      "text/plain": [
       "<matplotlib.legend.Legend at 0x2bccd4e5df0>"
      ]
     },
     "execution_count": 11,
     "metadata": {},
     "output_type": "execute_result"
    },
    {
     "data": {
      "image/png": "[encoded data removed]",
      "text/plain": [
       "<Figure size 640x480 with 1 Axes>"
      ]
     },
     "metadata": {},
     "output_type": "display_data"
    }
   ],
   "source": [
    "em3 = 0.846 \n",
    "em5 = 1.163 \n",
    "em8 = 1.42\n",
    "# em10 = 1.540\n",
    "\n",
    "# z = 2 * np.sin(6 * np.pi * x) - 3 * x\n",
    "# noise = np.random.normal(loc=0, scale=(0.2 + x * 3), size=x.shape[0])\n",
    "# sx = 0.2 + x * 3\n",
    "# Gx = z + Em * sx\n",
    "\n",
    "xp = np.linspace(0,1, 1000)\n",
    "zxp = 2 * np.sin(6 * np.pi * xp) - 3 * xp\n",
    "s_xp = 0.2 + xp * 3\n",
    "Gx = zxp + Em * s_xp\n",
    "\n",
    "\n",
    "light=\"#DCBCBC\"\n",
    "light_highlight=\"#C79999\"\n",
    "mid=\"#B97C7C\"\n",
    "mid_highlight=\"#A25050\"\n",
    "dark=\"#8F2727\"\n",
    "dark_highlight=\"#7C0000\"\n",
    "green=\"#00FF00\"\n",
    "#  0.846, 1.163, 1.42, 1.540\n",
    "# plt.fill_between(xs, zxp-4*s_xp, zxp+1.540*s_xp, facecolor=light, color=light)\n",
    "# plt.fill_between(xp, zxp-em8*s_xp, zxp+em8*s_xp, facecolor=light_highlight, color=light_highlight)\n",
    "# plt.fill_between(xp, zxp-em5*s_xp, zxp+em5*s_xp,facecolor=mid, color=mid)\n",
    "# plt.fill_between(xp, zxp-em3*s_xp, zxp+em3*s_xp, facecolor=mid_highlight, color=mid_highlight)\n",
    "plt.plot(xp, zxp, color=dark)\n",
    "plt.plot(xp, Gx, color=\"b\")\n",
    "# plt.scatter(xs, y_ob[0],s=4)\n",
    "plt.legend(['Z', 'G'], loc=3)\n",
    "# filename =  \"example__.pdf\"\n",
    "# plt.savefig(filename, dpi=300)"
   ]
  },
  {
   "cell_type": "code",
   "execution_count": 12,
   "id": "e26b02a9",
   "metadata": {
    "ExecuteTime": {
     "end_time": "2023-04-17T13:42:32.529496Z",
     "start_time": "2023-04-17T13:42:32.516493Z"
    }
   },
   "outputs": [],
   "source": [
    "# fig = plt.figure(figsize=[10, 8])  #定义新的三维坐标轴\n",
    "# ax3 = plt.axes(projection='3d')\n",
    "\n",
    "\n",
    "# #定义三维数据\n",
    "# xx = np.arange(0,1,0.1)\n",
    "# yy = np.arange(-10,10,0.1)\n",
    "# X, Y = np.meshgrid(xx, yy)\n",
    "# xp = X.reshape(-1, 1)\n",
    "# yp = Y.reshape(-1, 1)\n",
    "# f_in = np.hstack([xp, yp])\n",
    "\n",
    "# Z = np.zeros_like(xp)\n",
    "# G = np.zeros_like(xp)\n",
    "\n",
    "# for i in range(Z.shape[0]):\n",
    "#     Z[i] = ackley(f_in[i])[0]\n",
    "#     G[i] = ackley(f_in[i])[1]\n",
    "# #作图\n",
    "# ax3.plot_surface(X,Y,Z.reshape(xx.shape[0], -1),rstride = 1, cstride = 1,cmap='rainbow')\n",
    "# # ax3.contour(X,Y,Z.reshape(xx.shape[0], -1),offset=-1, cmap = 'rainbow')#绘制等高线\n",
    "\n",
    "# plt.show()"
   ]
  },
  {
   "cell_type": "code",
   "execution_count": 13,
   "id": "80160fb5",
   "metadata": {
    "ExecuteTime": {
     "end_time": "2023-04-17T13:42:32.545499Z",
     "start_time": "2023-04-17T13:42:32.530496Z"
    }
   },
   "outputs": [],
   "source": [
    "# fig = plt.figure(figsize=[10, 8])  #定义新的三维坐标轴\n",
    "# axG = plt.axes(projection='3d')\n",
    "\n",
    "# axG.plot_surface(X,Y,G.reshape(xx.shape[0], -1),rstride = 1, cstride = 1,cmap='rainbow')\n",
    "# plt.show()"
   ]
  },
  {
   "cell_type": "code",
   "execution_count": null,
   "id": "32e82eab",
   "metadata": {},
   "outputs": [],
   "source": []
  },
  {
   "cell_type": "markdown",
   "id": "f32f2f6a",
   "metadata": {},
   "source": [
    "#### Z fitting "
   ]
  },
  {
   "cell_type": "code",
   "execution_count": 14,
   "id": "873a071c",
   "metadata": {
    "ExecuteTime": {
     "end_time": "2023-04-17T13:42:32.561505Z",
     "start_time": "2023-04-17T13:42:32.546501Z"
    }
   },
   "outputs": [],
   "source": [
    "# xx = np.linspace(0,1, 1000).reshape(-1, 1)\n",
    "# z = 2 * np.sin(6 * np.pi * xx) - 3 * xx\n",
    "# m = []\n",
    "# var = []\n",
    "\n",
    "# for x in xx:\n",
    "#     m.append(model_Z.posterior(torch.from_numpy(x)).mean.detach().numpy().ravel())\n",
    "#     var.append(model_Z.posterior(torch.from_numpy(x)).variance.detach().numpy().ravel())\n",
    "\n",
    "# plt.scatter(xx.ravel(), m)\n",
    "# plt.scatter(xx.ravel(), z)"
   ]
  },
  {
   "cell_type": "markdown",
   "id": "02f0702e",
   "metadata": {},
   "source": [
    "### L fitting"
   ]
  },
  {
   "cell_type": "code",
   "execution_count": 15,
   "id": "98333d46",
   "metadata": {
    "ExecuteTime": {
     "end_time": "2023-04-17T13:42:32.577519Z",
     "start_time": "2023-04-17T13:42:32.562504Z"
    }
   },
   "outputs": [],
   "source": [
    "# xx = np.linspace(0,1, 1000).reshape(-1, 1)\n",
    "# s = (0.2 + xx * 3)**2\n",
    "# pi_l = np.log(s/(M_s-s))\n",
    "# m = []\n",
    "# var = []\n",
    "\n",
    "# for x in xx:\n",
    "#     m.append(model_L.posterior(torch.from_numpy(x)).mean.detach().numpy().ravel())\n",
    "#     var.append(model_L.posterior(torch.from_numpy(x)).variance.detach().numpy().ravel())\n",
    "    \n",
    "# plt.scatter(xx.ravel(), m)\n",
    "# plt.scatter(xx.ravel(), pi_l, c=\"r\")"
   ]
  },
  {
   "cell_type": "code",
   "execution_count": 16,
   "id": "01d43460",
   "metadata": {
    "ExecuteTime": {
     "end_time": "2023-04-17T13:42:32.593522Z",
     "start_time": "2023-04-17T13:42:32.578519Z"
    },
    "scrolled": false
   },
   "outputs": [],
   "source": [
    "# var = (0.2+train_X*3) **2\n",
    "\n",
    "\n",
    "# # for x in xx:\n",
    "# #     m.append(model_L.posterior(torch.from_numpy(x)).mean.detach().numpy().ravel())\n",
    "# #     var.append(model_L.posterior(torch.from_numpy(x)).variance.detach().numpy().ravel())\n",
    "    \n",
    "# plt.scatter(train_X.ravel(), train_yv.ravel())\n",
    "# plt.scatter(train_X.ravel(), var.ravel(), c=\"r\")"
   ]
  },
  {
   "cell_type": "code",
   "execution_count": 17,
   "id": "03fb35fa",
   "metadata": {
    "ExecuteTime": {
     "end_time": "2023-04-17T13:42:32.608526Z",
     "start_time": "2023-04-17T13:42:32.594523Z"
    }
   },
   "outputs": [],
   "source": [
    "# ss  = 0\n",
    "# for k,v in result_dic.items():\n",
    "#     if v[0] > 1:\n",
    "#         print(k, v)\n",
    "# ss"
   ]
  },
  {
   "cell_type": "code",
   "execution_count": 18,
   "id": "71bb154a",
   "metadata": {
    "ExecuteTime": {
     "end_time": "2023-04-17T13:42:32.624529Z",
     "start_time": "2023-04-17T13:42:32.609527Z"
    }
   },
   "outputs": [],
   "source": [
    "# mm = []\n",
    "# for i in range(30):\n",
    "#     mm.append(f(np.array([0.9]))[0])\n",
    "    \n",
    "# var_m = np.std(mm, ddof=1)\n",
    "# real_ = 0.2+0.9*3\n"
   ]
  },
  {
   "cell_type": "code",
   "execution_count": 19,
   "id": "58daaaba",
   "metadata": {
    "ExecuteTime": {
     "end_time": "2023-04-17T13:42:32.640533Z",
     "start_time": "2023-04-17T13:42:32.625530Z"
    }
   },
   "outputs": [],
   "source": [
    "# # read G  data\n",
    "# output = open(\"D://Jupyter_Projs//W//Hetero_GP//result_data//g_sin1d_G\", 'rb')\n",
    "# G_list = pickle.load(output)\n",
    "# output.close()\n",
    "# G1e = G_list[0]\n",
    "# G2e = G_list[1]\n",
    "\n",
    "# # plot result\n",
    "# plt.figure(figsize=[12,6])\n",
    "# plt.scatter(range(m_output*n_rep*(T+num_init)), np.mean(G1e, axis=(0)).ravel(), s=2, c='r')\n",
    "# G2ee = np.tile(G2e, (m_output))\n",
    "# plt.scatter(range(m_output*n_rep*(T+num_init)), np.mean(G2ee, axis=(0)).ravel(), s=2, c='b')\n",
    "# plt.title(f\"trials={trials},init={num_init},m={m_output},n={n_rep},T={T}\")\n",
    "# plt.xlabel(\"the number of function evaluations\")\n",
    "# plt.ylabel(\"$G(\\hat{x}_{t}^{*})$\", fontsize=10,rotation = 0, loc='bottom')\n",
    "\n",
    "# plt.legend([\"proposed\", \"benchmark\"])"
   ]
  },
  {
   "cell_type": "code",
   "execution_count": null,
   "id": "4c23faa9",
   "metadata": {},
   "outputs": [],
   "source": []
  },
  {
   "cell_type": "code",
   "execution_count": null,
   "id": "b828d211",
   "metadata": {
    "ExecuteTime": {
     "end_time": "2023-04-16T13:31:47.614150Z",
     "start_time": "2023-04-16T13:31:47.598146Z"
    }
   },
   "outputs": [],
   "source": []
  },
  {
   "cell_type": "code",
   "execution_count": null,
   "id": "cf7ff8d3",
   "metadata": {
    "ExecuteTime": {
     "end_time": "2023-04-16T13:31:17.965924Z",
     "start_time": "2023-04-16T13:31:17.950395Z"
    }
   },
   "outputs": [],
   "source": [
    "\n"
   ]
  }
 ],
 "metadata": {
  "kernelspec": {
   "display_name": "torch",
   "language": "python",
   "name": "torch"
  },
  "language_info": {
   "codemirror_mode": {
    "name": "ipython",
    "version": 3
   },
   "file_extension": ".py",
   "mimetype": "text/x-python",
   "name": "python",
   "nbconvert_exporter": "python",
   "pygments_lexer": "ipython3",
   "version": "3.8.13"
  },
  "toc": {
   "base_numbering": 1,
   "nav_menu": {},
   "number_sections": true,
   "sideBar": true,
   "skip_h1_title": false,
   "title_cell": "Table of Contents",
   "title_sidebar": "Contents",
   "toc_cell": false,
   "toc_position": {},
   "toc_section_display": true,
   "toc_window_display": false
  },
  "varInspector": {
   "cols": {
    "lenName": 16,
    "lenType": 16,
    "lenVar": 40
   },
   "kernels_config": {
    "python": {
     "delete_cmd_postfix": "",
     "delete_cmd_prefix": "del ",
     "library": "var_list.py",
     "varRefreshCmd": "print(var_dic_list())"
    },
    "r": {
     "delete_cmd_postfix": ") ",
     "delete_cmd_prefix": "rm(",
     "library": "var_list.r",
     "varRefreshCmd": "cat(var_dic_list()) "
    }
   },
   "oldHeight": 394.616666,
   "position": {
    "height": "40px",
    "left": "1189.9px",
    "right": "20px",
    "top": "145px",
    "width": "355.767px"
   },
   "types_to_exclude": [
    "module",
    "function",
    "builtin_function_or_method",
    "instance",
    "_Feature"
   ],
   "varInspector_section_display": "none",
   "window_display": false
  }
 },
 "nbformat": 4,
 "nbformat_minor": 5
}
