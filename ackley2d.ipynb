{
 "cells": [
  {
   "cell_type": "code",
   "execution_count": 66,
   "id": "98f0e44e",
   "metadata": {
    "ExecuteTime": {
     "end_time": "2023-04-18T07:37:49.021431Z",
     "start_time": "2023-04-18T07:37:49.002425Z"
    }
   },
   "outputs": [],
   "source": [
    "import os\n",
    "import math\n",
    "import numpy as np\n",
    "import pandas as pd\n",
    "import GPy\n",
    "import pickle\n",
    "import random\n",
    "import torch\n",
    "import botorch\n",
    "import gpytorch\n",
    "import matplotlib.pyplot as plt\n",
    "\n",
    "from sklearn import metrics, datasets\n",
    "from sklearn.preprocessing import StandardScaler\n",
    "from scipy.stats import pearsonr\n",
    "from scipy.stats import qmc\n",
    "from collections import Counter\n",
    "from matplotlib import pyplot as plt\n",
    "from math import pi\n",
    "from matplotlib import cm\n",
    "from matplotlib.ticker import LinearLocator\n",
    "\n",
    "from gpytorch.mlls import ExactMarginalLogLikelihood\n",
    "from botorch.models import SingleTaskGP,HeteroskedasticSingleTaskGP, FixedNoiseGP\n",
    "from botorch.fit import fit_gpytorch_model\n",
    "from botorch.utils import standardize"
   ]
  },
  {
   "cell_type": "code",
   "execution_count": 67,
   "id": "38a17c84",
   "metadata": {
    "ExecuteTime": {
     "end_time": "2023-04-18T07:37:49.649645Z",
     "start_time": "2023-04-18T07:37:49.641643Z"
    }
   },
   "outputs": [],
   "source": [
    "# em3 = 0.846, em5=1.163, em8=1.423\n",
    "m_output = 8\n",
    "Em_dict = {3:0.846, 5:1.163, 8:1.423}\n",
    "Em = Em_dict[m_output]\n",
    "trials = 50\n",
    "\n",
    "M_s = 20\n",
    "num_init = 10\n",
    "num_design = 5000\n",
    "n_rep = 15\n",
    "T = 15\n",
    "l_bounds = [-10, -10]\n",
    "u_bounds = [10, 10]\n",
    "# l_bounds = [0]\n",
    "# u_bounds = [1]\n",
    "dim = len(l_bounds)\n",
    "G1e = np.zeros([trials, (T + num_init) * m_output, n_rep])\n",
    "G2e = np.zeros([trials, (T + num_init) , n_rep])\n"
   ]
  },
  {
   "cell_type": "code",
   "execution_count": 68,
   "id": "9e3573ee",
   "metadata": {
    "ExecuteTime": {
     "end_time": "2023-04-18T07:37:50.424718Z",
     "start_time": "2023-04-18T07:37:50.409714Z"
    },
    "code_folding": [
     0,
     7,
     14,
     25,
     34
    ]
   },
   "outputs": [],
   "source": [
    "def generate_data(N=80):\n",
    "    X = np.random.rand(N)[:, None] * 10 - 5  # Inputs, shape N x 1\n",
    "    F = 2.5 * np.sin(6 * X) + np.cos(3 * X)  # Mean function values\n",
    "    NoiseVar = 2 * np.exp(-(X - 2) ** 2 / 4) + 0.3  # Noise variances\n",
    "    Y = F + np.random.randn(N, 1) * np.sqrt(NoiseVar)  # Noisy data\n",
    "    return X, Y, NoiseVar\n",
    "\n",
    "def sampling_position(num_points, lower_bounds, upper_bounds, seed=0, ):\n",
    "    sampler = qmc.LatinHypercube(d=len(lower_bounds), seed=seed)\n",
    "    sample = sampler.random(n=num_points)\n",
    "    points_position = qmc.scale(sample, lower_bounds, upper_bounds)\n",
    "\n",
    "    return points_position\n",
    "\n",
    "def sixhump(x):\n",
    "    x1 = x[0]\n",
    "    x2 = x[1]\n",
    "    z = (4 - 2.1 * x1 ** 2 + x1 ** 4 / 3) * x1 ** 2 + x1 * x2 + (-4 + 4 * x2 ** 2) * x2 ** 2\n",
    "    sx = np.sqrt(np.abs(x).sum())\n",
    "    noise = np.random.normal(loc=0, scale=np.abs(x).sum())\n",
    "    Gx = z + 0.8 * sx\n",
    "    # print(\"z=\", z, \"noise=\", noise, \"Gx=\", Gx)\n",
    "    return -(z + noise), Gx\n",
    "\n",
    "\n",
    "def g_sin1d(x):\n",
    "    z = 2 * np.sin(6 * np.pi * x) - 3 * x\n",
    "    noise = np.random.normal(loc=0, scale=(0.2 + x * 3), size=x.shape[0])\n",
    "    sx = 0.2 + x * 3\n",
    "    Gx = z + Em * sx\n",
    "    #     y_ob = zxp + np.random.normal(loc=0, scale=(0.5+xp*2), size=(1000, 1000))\n",
    "    return z + noise, Gx[0]\n",
    "\n",
    "\n",
    "def ackley(x):\n",
    "    n = 2\n",
    "    a = 20;\n",
    "    b = 0.2;\n",
    "    c = 2 * np.pi\n",
    "    s1 = 0\n",
    "    s2 = 0\n",
    "    s3 = 0\n",
    "    s4 = 0\n",
    "    for i in range(0, n):\n",
    "        s1 = s1 + x[i] ** 2\n",
    "        s2 = s2 + math.cos(c * x[i])\n",
    "        s3 = s3 + (x[i]-4) **2\n",
    "        s4 = s4 + math.cos(c * (x[i]-4))\n",
    "    z = 0.5*(-a * math.exp(-b * math.sqrt((1 / n) * s1)) - math.exp((1 / n) * s2) + a + math.exp(1)\n",
    "             -a * math.exp(-b * math.sqrt((1 / n) * s3)) - math.exp((1 / n) * s4) + a + math.exp(1))\n",
    "    noise = np.random.normal(loc=0, scale=0.02*np.abs(x-2).sum()+np.abs(x).sum()/5)\n",
    "    sx = 0.02*np.abs(x-2).sum()+np.abs(x).sum()/5\n",
    "    Gx = -z + Em * sx#\n",
    "\n",
    "#     return -z + noise, Gx\n",
    "    return -z , Gx\n",
    "\n",
    "\n",
    "def get_h(x):\n",
    "    h = -10000\n",
    "    n = 2\n",
    "    a = 20;\n",
    "    b = 0.2;\n",
    "    c = 2 * np.pi\n",
    "    s1 = 0\n",
    "    s2 = 0\n",
    "    for i in range(0, n):\n",
    "        s1 = s1 + x[i] ** 2\n",
    "        s2 = s2 + math.cos(c * x[i])\n",
    "    \n",
    "    z = -a * math.exp(-b * math.sqrt(1 / n * s1)) - math.exp(1 / n * s2) + a + math.exp(1)\n",
    "       \n",
    "    for j in range(m_output):\n",
    "        noise = np.random.normal(loc=0, scale=0.02*np.abs(x-2).sum()+np.sqrt((x**2).sum()/2), size=1)\n",
    "        h = max(h, -z+noise)\n",
    "            \n",
    "    return h"
   ]
  },
  {
   "cell_type": "code",
   "execution_count": 69,
   "id": "525ae0d2",
   "metadata": {
    "ExecuteTime": {
     "end_time": "2023-04-18T07:37:51.528411Z",
     "start_time": "2023-04-18T07:37:51.520409Z"
    },
    "code_folding": []
   },
   "outputs": [],
   "source": [
    "f = ackley"
   ]
  },
  {
   "cell_type": "markdown",
   "id": "f32a497f",
   "metadata": {},
   "source": [
    "### proposed"
   ]
  },
  {
   "cell_type": "code",
   "execution_count": 5,
   "id": "4bb2f92d",
   "metadata": {
    "ExecuteTime": {
     "end_time": "2023-04-17T13:19:57.495143Z",
     "start_time": "2023-04-17T13:02:15.885355Z"
    },
    "code_folding": [],
    "scrolled": true
   },
   "outputs": [
    {
     "name": "stdout",
     "output_type": "stream",
     "text": [
      "trial= 0\n"
     ]
    },
    {
     "name": "stderr",
     "output_type": "stream",
     "text": [
      " D:\\Users\\W\\anaconda3\\envs\\torch\\lib\\site-packages\\gpytorch\\lazy\\lazy_tensor.py:1810: UserWarning:torch.triangular_solve is deprecated in favor of torch.linalg.solve_triangularand will be removed in a future PyTorch release.\n",
      "torch.linalg.solve_triangular has its arguments reversed and does not return a copy of one of the inputs.\n",
      "X = torch.triangular_solve(B, A).solution\n",
      "should be replaced with\n",
      "X = torch.linalg.solve_triangular(A, B). (Triggered internally at  C:\\cb\\pytorch_1000000000000\\work\\aten\\src\\ATen\\native\\BatchLinearAlgebra.cpp:2189.)\n"
     ]
    },
    {
     "name": "stdout",
     "output_type": "stream",
     "text": [
      "trial= 1\n",
      "trial= 2\n",
      "trial= 3\n",
      "trial= 4\n",
      "trial= 5\n",
      "trial= 6\n",
      "trial= 7\n",
      "trial= 8\n",
      "trial= 9\n",
      "trial= 10\n",
      "trial= 11\n",
      "trial= 12\n",
      "trial= 13\n",
      "trial= 14\n",
      "trial= 15\n",
      "trial= 16\n",
      "trial= 17\n",
      "trial= 18\n",
      "trial= 19\n",
      "trial= 20\n",
      "trial= 21\n",
      "trial= 22\n",
      "trial= 23\n",
      "trial= 24\n",
      "trial= 25\n",
      "trial= 26\n",
      "trial= 27\n",
      "trial= 28\n",
      "trial= 29\n",
      "trial= 30\n",
      "trial= 31\n",
      "trial= 32\n",
      "trial= 33\n",
      "trial= 34\n",
      "trial= 35\n",
      "trial= 36\n",
      "trial= 37\n",
      "trial= 38\n",
      "trial= 39\n",
      "trial= 40\n",
      "trial= 41\n",
      "trial= 42\n",
      "trial= 43\n",
      "trial= 44\n",
      "trial= 45\n",
      "trial= 46\n",
      "trial= 47\n",
      "trial= 48\n",
      "trial= 49\n"
     ]
    }
   ],
   "source": [
    "for e in range(trials):\n",
    "    print(\"trial=\", e)\n",
    "    queried_index = []\n",
    "    dup_index = []\n",
    "    dup_dict = {}\n",
    "    uni_index = []\n",
    "    num_init_1 = m_output * num_init\n",
    "    unique_iter = list(range(num_init_1))\n",
    "    dup_iter = []\n",
    "    # get initial data\n",
    "\n",
    "    sampler = qmc.LatinHypercube(d=len(l_bounds), seed=e)\n",
    "    sample = sampler.random(n=num_init_1)\n",
    "    init_X = qmc.scale(sample, l_bounds, u_bounds)\n",
    "    init_Y = -100 * np.ones(shape=[num_init_1, n_rep])\n",
    "    y = []\n",
    "    \n",
    "    for row, pos in enumerate(init_X):\n",
    "        for col in range(n_rep):\n",
    "            init_Y[row, col] = f(pos)[0]\n",
    "\n",
    "\n",
    "    init_ym = np.mean(init_Y, axis=1)  # gp_Z\n",
    "    init_Yv =  np.var(init_Y, axis=1, ddof=1)\n",
    "    init_Yvar = np.var(init_Y, axis=1, ddof=1)/ n_rep\n",
    "#     init_X = torch.from_numpy(init_X)\n",
    "#     init_ym = torch.from_numpy(np.mean(init_Y, axis=1)).unsqueeze(1)  # gp_Z\n",
    "#     init_Yv =  torch.from_numpy(np.var(init_Y, axis=1, ddof=1)).unsqueeze(1)\n",
    "#     init_Yvar = torch.from_numpy(np.var(init_Y, axis=1, ddof=1)).unsqueeze(1) / n_rep\n",
    "\n",
    "    G1 = np.zeros([(T + num_init) * m_output, n_rep])\n",
    "    for i in range(num_init_1):\n",
    "        G1[i, :] = f(init_X[np.argmax(init_ym[:i + 1] + Em * np.sqrt(init_Yv[:i + 1]))])[1]\n",
    "        \n",
    "    design_X = torch.from_numpy(sampling_position(num_points=num_design,lower_bounds=l_bounds, upper_bounds=u_bounds, seed=0))\n",
    "    result_dic = {}\n",
    "    for i in range(num_design):\n",
    "        result_dic[i] = [0, []]\n",
    "        \n",
    "    train_X = init_X\n",
    "    train_ym = init_ym.reshape(-1, 1)\n",
    "    train_yv = init_Yv.reshape(-1, 1)\n",
    "    train_yvar = init_Yvar.reshape(-1, 1)\n",
    "    for iteration in range(T * m_output):\n",
    "        # fit GP\n",
    "#         print(\"iteration= \", iteration)\n",
    "        model_Z = FixedNoiseGP(torch.from_numpy(train_X), torch.from_numpy(train_ym), torch.from_numpy(train_yvar))\n",
    "        mll_Z = gpytorch.mlls.ExactMarginalLogLikelihood(model_Z.likelihood, model_Z)\n",
    "        mll_Z.train()\n",
    "        botorch.optim.fit.fit_gpytorch_scipy(mll_Z)\n",
    "#         model_L = SingleTaskGP(torch.from_numpy(train_X),\n",
    "#                 torch.log(torch.sqrt(torch.from_numpy(train_yv))/(M_s - torch.sqrt(torch.from_numpy((train_yv))))))\n",
    "\n",
    "#         mll_L = ExactMarginalLogLikelihood(model_L.likelihood, model_L)\n",
    "#         mll_L.train()\n",
    "#         fit_gpytorch_model(mll_L)\n",
    "\n",
    "        # acquisition\n",
    "        Z_m = model_Z.posterior(design_X).mean\n",
    "        Z_v = model_Z.posterior(design_X).variance\n",
    "#         L_m = model_L.posterior(design_X).mean\n",
    "#         L_v = model_L.posterior(design_X).variance\n",
    "        \n",
    "        beta = 500 * (0.9)**iteration + 2\n",
    "#         beta = 1000 * (1-iteration/(m_output*T))+2\n",
    "#         beta = 1000\n",
    "        het_ucb = Z_m + (beta * Z_v).sqrt()\n",
    "#         s = L_m + (beta * L_v).sqrt()\n",
    "#         pi_ucb_L = Em * M_s*torch.pow(1+torch.exp(-s), -1)  # logit\n",
    "#         het_ucb = ucb_Z_value + pi_ucb_L\n",
    "        max_index = torch.argmax(het_ucb).tolist()\n",
    "        next_X = design_X[max_index].numpy()\n",
    "        result_dic[max_index][0] = result_dic[max_index][0] + 1\n",
    "        result_dic[max_index][1].append(iteration)\n",
    "        \n",
    "        # query f, next point\n",
    "        n_replications = np.zeros([n_rep, 1])\n",
    "        for i in range(n_rep):\n",
    "            n_replications[i] = f(next_X)[0]\n",
    "            \n",
    "        y.append(list(n_replications))\n",
    "        train_X = []\n",
    "        train_ym = []\n",
    "        train_yv = []\n",
    "        train_yvar = []\n",
    "        for k, v in result_dic.items():\n",
    "            if v[0] > 0:\n",
    "                all_reps = []\n",
    "                for i in v[1]:\n",
    "                    all_reps.append(y[i])\n",
    "\n",
    "                ym = np.mean(all_reps)\n",
    "                yv = np.var(all_reps, ddof=1)\n",
    "\n",
    "                train_X.append(design_X[k].numpy())\n",
    "                train_ym.append(ym)\n",
    "                train_yv = np.vstack([np.array(train_yv).reshape(-1, 1), np.array([yv])])\n",
    "                train_yvar.append(yv/(v[0]*n_rep))\n",
    "\n",
    "        train_X = np.vstack([init_X, np.array(train_X).reshape(-1, dim)])\n",
    "        train_ym = np.vstack([init_ym.reshape(-1, 1),  np.array(train_ym).reshape(-1, 1)])\n",
    "        train_yv = np.vstack([init_Yv.reshape(-1, 1), train_yv])\n",
    "        train_yvar = np.vstack([init_Yvar.reshape(-1, 1), np.array(train_yvar).reshape(-1, 1)])\n",
    "        G1[num_init_1 + iteration, :] = f(train_X[np.argmax(train_ym + Em * np.sqrt(train_yv))])[1]\n",
    "\n",
    "    G1e[e] = G1"
   ]
  },
  {
   "cell_type": "markdown",
   "id": "919a1603",
   "metadata": {},
   "source": [
    "### benchmark"
   ]
  },
  {
   "cell_type": "code",
   "execution_count": 6,
   "id": "05b26ddc",
   "metadata": {
    "ExecuteTime": {
     "end_time": "2023-04-17T13:20:53.608930Z",
     "start_time": "2023-04-17T13:19:57.496143Z"
    },
    "code_folding": [
     0
    ],
    "scrolled": true
   },
   "outputs": [
    {
     "name": "stdout",
     "output_type": "stream",
     "text": [
      "trials=  0\n",
      "trials=  1\n",
      "trials=  2\n",
      "trials=  3\n",
      "trials=  4\n",
      "trials=  5\n",
      "trials=  6\n",
      "trials=  7\n",
      "trials=  8\n",
      "trials=  9\n",
      "trials=  10\n",
      "trials=  11\n",
      "trials=  12\n",
      "trials=  13\n",
      "trials=  14\n",
      "trials=  15\n",
      "trials=  16\n",
      "trials=  17\n",
      "trials=  18\n",
      "trials=  19\n",
      "trials=  20\n",
      "trials=  21\n",
      "trials=  22\n",
      "trials=  23\n",
      "trials=  24\n",
      "trials=  25\n",
      "trials=  26\n",
      "trials=  27\n",
      "trials=  28\n",
      "trials=  29\n",
      "trials=  30\n",
      "trials=  31\n",
      "trials=  32\n",
      "trials=  33\n",
      "trials=  34\n",
      "trials=  35\n",
      "trials=  36\n",
      "trials=  37\n",
      "trials=  38\n",
      "trials=  39\n",
      "trials=  40\n",
      "trials=  41\n",
      "trials=  42\n",
      "trials=  43\n",
      "trials=  44\n",
      "trials=  45\n",
      "trials=  46\n",
      "trials=  47\n",
      "trials=  48\n",
      "trials=  49\n"
     ]
    }
   ],
   "source": [
    "for e in range(trials):\n",
    "    print(\"trials= \", e)\n",
    "    # get initial data\n",
    "    sampler = qmc.LatinHypercube(d=len(l_bounds), seed=e)\n",
    "    sample = sampler.random(n=num_init)\n",
    "    init_X = qmc.scale(sample, l_bounds, u_bounds)\n",
    "    init_h = -100 * np.ones(shape=[num_init, n_rep])\n",
    "    for i in range(num_init):\n",
    "        for j in range(n_rep):\n",
    "            init_h[i, j ]= get_h(init_X[i])\n",
    "     \n",
    "    h = []\n",
    "    init_hm = np.mean(init_h, axis=1)  # gp_Z\n",
    "    init_Hv =  np.var(init_h, axis=1, ddof=1)\n",
    "    init_Hvar = np.var(init_h, axis=1, ddof=1)/ n_rep\n",
    "\n",
    "    G2 = np.zeros([T + num_init, n_rep])\n",
    "    for i in range(num_init):\n",
    "        G2[i, :] = f(init_X[np.argmax(init_hm[:i+1])])[1]\n",
    "#         G2[i, :] = f(init_X[np.argmax(init_ym[:i + 1] + Em * np.sqrt(init_Yv[:i + 1]))])[1]\n",
    "        \n",
    "    design_X = torch.from_numpy(sampling_position(num_points=num_design,lower_bounds=l_bounds, upper_bounds=u_bounds, seed=0))\n",
    "    result_dic = {}\n",
    "    for i in range(num_design):\n",
    "        result_dic[i] = [0, []]\n",
    "        \n",
    "    train_X = init_X\n",
    "    train_hm = init_hm.reshape(-1, 1)\n",
    "    train_hv = init_Hv.reshape(-1, 1)\n",
    "    train_hvar = init_Hvar.reshape(-1, 1)\n",
    "    for iteration in range(T):\n",
    "        model_Z = FixedNoiseGP(torch.from_numpy(train_X), torch.from_numpy(train_hm), torch.from_numpy(train_hvar))\n",
    "        mll_Z = gpytorch.mlls.ExactMarginalLogLikelihood(model_Z.likelihood, model_Z)\n",
    "        mll_Z.train()\n",
    "        botorch.optim.fit.fit_gpytorch_scipy(mll_Z)\n",
    "\n",
    "        # acquisition\n",
    "        Z_m = model_Z.posterior(design_X).mean\n",
    "        Z_v = model_Z.posterior(design_X).variance\n",
    "\n",
    "#         beta = 500 * (0.9)**iteration\n",
    "        beta = 500 * (0.9)**iteration + 2\n",
    "        het_ucb = Z_m + (beta * Z_v).sqrt()\n",
    "#         s = L_m + (beta * L_v).sqrt()\n",
    "#         pi_ucb_L = Em * M_s*torch.pow(1+torch.exp(-s), -1)  # logit\n",
    "#         het_ucb = ucb_Z_value + pi_ucb_L\n",
    "        max_index = torch.argmax(het_ucb).tolist()\n",
    "        next_X = design_X[max_index].numpy()\n",
    "        result_dic[max_index][0] = result_dic[max_index][0] + 1\n",
    "        result_dic[max_index][1].append(iteration)\n",
    "        \n",
    "        # query f, next point\n",
    "        n_replications = np.zeros([n_rep, 1])\n",
    "        for i in range(n_rep):\n",
    "            n_replications[i] = get_h(next_X)\n",
    "            \n",
    "        h.append(list(n_replications))\n",
    "        train_X = []\n",
    "        train_hm = []\n",
    "        train_hv = []\n",
    "        train_hvar = []\n",
    "        for k, v in result_dic.items():\n",
    "            if v[0] > 0:\n",
    "                all_reps = []\n",
    "                for i in v[1]:\n",
    "                    all_reps.append(h[i])\n",
    "\n",
    "                hm = np.mean(all_reps)\n",
    "                hv = np.var(all_reps, ddof=1)\n",
    "\n",
    "                train_X.append(design_X[k].numpy())\n",
    "                train_hm.append(hm)\n",
    "                train_hv = np.vstack([np.array(train_hv).reshape(-1, 1), np.array([hv])])\n",
    "                train_hvar.append(hv/(v[0]*n_rep))\n",
    "\n",
    "        train_X = np.vstack([init_X, np.array(train_X).reshape(-1, dim)])\n",
    "        train_hm = np.vstack([init_hm.reshape(-1, 1),  np.array(train_hm).reshape(-1, 1)])\n",
    "        train_hv = np.vstack([init_Hv.reshape(-1, 1), train_hv])\n",
    "        train_hvar = np.vstack([init_Hvar.reshape(-1, 1), np.array(train_hvar).reshape(-1, 1)])\n",
    "        G2[num_init + iteration, :] = f(train_X[np.argmax(train_hm)])[1] \n",
    "    G2e[e] = G2"
   ]
  },
  {
   "cell_type": "code",
   "execution_count": 76,
   "id": "6bce3032",
   "metadata": {
    "ExecuteTime": {
     "end_time": "2023-04-19T11:37:58.081872Z",
     "start_time": "2023-04-19T11:37:57.771532Z"
    },
    "scrolled": false
   },
   "outputs": [
    {
     "data": {
      "text/plain": [
       "<matplotlib.legend.Legend at 0x154c7125d60>"
      ]
     },
     "execution_count": 76,
     "metadata": {},
     "output_type": "execute_result"
    },
    {
     "data": {
      "image/png": "[encoded data removed]",
      "text/plain": [
       "<Figure size 1200x600 with 1 Axes>"
      ]
     },
     "metadata": {},
     "output_type": "display_data"
    }
   ],
   "source": [
    "plt.figure(figsize=[12,6])\n",
    "# plt.scatter(range(G1.size), G1.ravel(), s=2, c='r')\n",
    "# plt.scatter(range(G2.size), G2.ravel(), s=2, c='b')\n",
    "\n",
    "plt.scatter(range(m_output*n_rep*(T+num_init)), np.mean(G1e, axis=(0)).ravel(), s=1, c='r')\n",
    "G2ee = np.tile(G2e, (m_output))\n",
    "plt.scatter(range(m_output*n_rep*(T+num_init)), np.mean(G2ee, axis=(0)).ravel(), s=7, c='b')\n",
    "# plt.title(f\"trials={trials},init={num_init},m={m_output},n={n_rep},T={T}, maximum={-4.9}\")\n",
    "plt.title(f\"2D function  m={m_output}\")\n",
    "plt.xlabel(\"the number of function evaluations\", fontsize=10)\n",
    "plt.ylabel(\"$G(\\hat{x}_{t}^{*})$\", fontsize=10,rotation = 0, loc='bottom')\n",
    "\n",
    "plt.legend([\"MA-UCB\", \"benchmark\"])\n",
    "\n",
    "# plt.savefig(\"D:\\Jupyter_Projs//W//Hetero_GP//G_result_data/2D_m8.pdf\", dpi=500, bbox_inches=\"tight\")"
   ]
  },
  {
   "cell_type": "code",
   "execution_count": 77,
   "id": "9e97c1b5",
   "metadata": {
    "ExecuteTime": {
     "end_time": "2023-04-19T11:38:09.391818Z",
     "start_time": "2023-04-19T11:38:09.375815Z"
    }
   },
   "outputs": [],
   "source": [
    "# ## dump data\n",
    "# import pickle\n",
    "# save_path = f'D:\\Jupyter_Projs//W//Hetero_GP//G_result_data//G_m{m_output}_' + f.__name__ \n",
    "# print(save_path)\n",
    "# G_list = [G1e, G2e]\n",
    "# output = open(save_path, 'wb')\n",
    "# pickle.dump(G_list , output)\n",
    "# output.close()"
   ]
  },
  {
   "cell_type": "code",
   "execution_count": 220,
   "id": "29cfe025",
   "metadata": {
    "ExecuteTime": {
     "end_time": "2023-04-20T10:50:11.594485Z",
     "start_time": "2023-04-20T10:50:11.577481Z"
    }
   },
   "outputs": [],
   "source": [
    "# read G  data\n",
    "output = open(\"D://Jupyter_Projs//W//Hetero_GP//G_result_data//G_m8_ackley\", 'rb')\n",
    "G_list = pickle.load(output)\n",
    "output.close()\n",
    "G1e = G_list[0]\n",
    "G2e = G_list[1]\n",
    "\n",
    "num_init = 10\n",
    "m_output = 8\n",
    "T = 15"
   ]
  },
  {
   "cell_type": "markdown",
   "id": "f48b9c67",
   "metadata": {},
   "source": [
    " 1D: T5 = 13, T8=7, num_init = 3 \n",
    " \n",
    " 2D: T5=30, T8=15, num_init = 10"
   ]
  },
  {
   "cell_type": "code",
   "execution_count": 222,
   "id": "ac28e6b9",
   "metadata": {
    "ExecuteTime": {
     "end_time": "2023-04-20T10:50:31.575480Z",
     "start_time": "2023-04-20T10:50:31.319335Z"
    }
   },
   "outputs": [
    {
     "data": {
      "image/png": "[encoded data removed]",
      "text/plain": [
       "<Figure size 1200x600 with 1 Axes>"
      ]
     },
     "metadata": {},
     "output_type": "display_data"
    }
   ],
   "source": [
    "plt.figure(figsize=[12,6])\n",
    "\n",
    "# plt.scatter(range(m_output*n_rep*(T+num_init)), np.mean(G1e, axis=(0)).ravel(), s=1, c='r')\n",
    "G2ee = np.tile(G2e, (m_output))\n",
    "m_MA = np.mean(G1e, axis=(0)).ravel()\n",
    "v_MA = np.var(G1e, axis=(0)).ravel()\n",
    "m_ben = np.mean(G2ee, axis=(0)).ravel()\n",
    "v_ben = np.var(G2ee, axis=(0)).ravel()\n",
    "\n",
    "p1= plt.plot(range(m_output*n_rep*(T+num_init)),m_MA, c='r')\n",
    "p2= plt.plot(range(m_output*n_rep*(T+num_init)), m_ben, c='b', linestyle= 'dashed',linewidth =2)\n",
    "plt.fill_between(range(m_output*n_rep*(T+num_init)), m_MA-0.3*v_MA, m_MA+0.3*v_MA, color='r', alpha=0.2)\n",
    "plt.fill_between(range(m_output*n_rep*(T+num_init)), m_ben-0.3*v_ben, m_ben+0.3*v_ben, color='blue', alpha=0.2)\n",
    "\n",
    "\n",
    "# plt.title(f\"trials={trials},init={num_init},m={m_output},n={n_rep},T={T}, maximum={-4.9}\")\n",
    "plt.title(f\"2D function  m=8\")\n",
    "plt.xlabel(\"the number of function evaluations\", fontsize=15)\n",
    "plt.ylabel(\"$G(\\hat{x}_{t}^{*})$\", fontsize=10,rotation = 0, labelpad=15)\n",
    "# plt.legend( [\"MA-UCB\", \"benchmark\"] , prop={'size': 20})\n",
    "\n",
    "# plt.savefig(\"D:/Jupyter_Projs//W//Hetero_GP//G_result_data/2D_m8.pdf\", dpi=500, bbox_inches=\"tight\")"
   ]
  },
  {
   "cell_type": "code",
   "execution_count": 9,
   "id": "fa0ea5d1",
   "metadata": {
    "ExecuteTime": {
     "end_time": "2023-04-17T13:20:54.985670Z",
     "start_time": "2023-04-17T13:20:54.006249Z"
    }
   },
   "outputs": [
    {
     "data": {
      "text/plain": [
       "tensor(-4.5614, dtype=torch.float64)"
      ]
     },
     "execution_count": 9,
     "metadata": {},
     "output_type": "execute_result"
    }
   ],
   "source": [
    "g1 = []\n",
    "for x in design_X:\n",
    "    z,g = f(x)\n",
    "    g1.append(g)\n",
    "    \n",
    "max(g1) \n",
    "# plt.scatter(design_X, g1)\n",
    "# plt.scatter(design_X, 0.2 + design_X * 3)"
   ]
  },
  {
   "cell_type": "code",
   "execution_count": 37,
   "id": "8e0cb5b1",
   "metadata": {
    "ExecuteTime": {
     "end_time": "2023-04-17T13:24:47.448616Z",
     "start_time": "2023-04-17T13:24:47.432613Z"
    },
    "scrolled": true
   },
   "outputs": [
    {
     "data": {
      "text/plain": [
       "array([10, 37, 41], dtype=int64)"
      ]
     },
     "execution_count": 37,
     "metadata": {},
     "output_type": "execute_result"
    }
   ],
   "source": [
    "# np.unique(np.where(G1e > -4.56)[0])\n",
    "# G1e[10].max(), G1e[37].max(), G1e[41].max()"
   ]
  },
  {
   "cell_type": "code",
   "execution_count": null,
   "id": "c48014e8",
   "metadata": {},
   "outputs": [],
   "source": []
  },
  {
   "cell_type": "code",
   "execution_count": null,
   "id": "e8ade1ee",
   "metadata": {},
   "outputs": [],
   "source": []
  },
  {
   "cell_type": "code",
   "execution_count": null,
   "id": "849fbf3f",
   "metadata": {},
   "outputs": [],
   "source": []
  },
  {
   "cell_type": "code",
   "execution_count": 18,
   "id": "d577c04e",
   "metadata": {
    "ExecuteTime": {
     "end_time": "2023-04-17T13:20:55.129208Z",
     "start_time": "2023-04-17T13:20:55.114204Z"
    }
   },
   "outputs": [],
   "source": [
    "# fig = plt.figure()  #定义新的三维坐标轴\n",
    "# ax3 = plt.axes(projection='3d')\n",
    "\n",
    "# #定义三维数据\n",
    "# xx = np.arange(-5,5,0.1)\n",
    "# yy = np.arange(-5,5,0.1)\n",
    "# X, Y = np.meshgrid(xx, yy)\n",
    "# Z = np.sin(X)+np.cos(Y)\n",
    "\n",
    "\n",
    "# #作图\n",
    "# ax3.plot_surface(X,Y,Z,rstride = 1, cstride = 1,cmap='rainbow')\n",
    "# ax3.contour(X,Y,Z,offset=-2, cmap = 'rainbow')#绘制等高线\n",
    "# plt.show()"
   ]
  },
  {
   "cell_type": "code",
   "execution_count": 19,
   "id": "7976f16c",
   "metadata": {
    "ExecuteTime": {
     "end_time": "2023-04-17T13:20:55.144706Z",
     "start_time": "2023-04-17T13:20:55.130208Z"
    }
   },
   "outputs": [
    {
     "data": {
      "text/plain": [
       "((-5.347739036204027, -5.392870358827785),\n",
       " (-6.891265186942692, -3.116070358827784))"
      ]
     },
     "execution_count": 19,
     "metadata": {},
     "output_type": "execute_result"
    }
   ],
   "source": [
    "ackley(np.array([0,0])), ackley(np.array([4,4]))"
   ]
  },
  {
   "cell_type": "code",
   "execution_count": 20,
   "id": "69235de6",
   "metadata": {
    "ExecuteTime": {
     "end_time": "2023-04-17T13:20:55.160709Z",
     "start_time": "2023-04-17T13:20:55.145707Z"
    }
   },
   "outputs": [],
   "source": [
    "# fig = plt.figure(figsize=[10, 8])  #定义新的三维坐标轴\n",
    "# ax3 = plt.axes(projection='3d')\n",
    "\n",
    "\n",
    "# #定义三维数据\n",
    "# xx = np.arange(-10,10,0.1)\n",
    "# yy = np.arange(-10,10,0.1)\n",
    "# X, Y = np.meshgrid(xx, yy)\n",
    "# xp = X.reshape(-1, 1)\n",
    "# yp = Y.reshape(-1, 1)\n",
    "# f_in = np.hstack([xp, yp])\n",
    "\n",
    "# Z = np.zeros_like(xp)\n",
    "# G = np.zeros_like(xp)\n",
    "\n",
    "# for i in range(Z.shape[0]):\n",
    "#     Z[i] = ackley(f_in[i])[0]\n",
    "#     G[i] = ackley(f_in[i])[1]\n",
    "# #作图\n",
    "\n",
    "# p1 = ax3.plot_surface(X,Y,Z.reshape(xx.shape[0], -1),rstride = 1, cstride = 1,cmap='rainbow')\n",
    "# p1._facecolors2d = p1._facecolor3d \n",
    "# p1._edgecolors2d = p1._edgecolor3d \n",
    "# ax3.legend(['Z'])\n",
    "# # ax3.contour(X,Y,Z.reshape(xx.shape[0], -1),offset=-1, cmap = 'rainbow')#绘制等高线\n",
    "# # ax3.legend(['Z'], loc=3)\n",
    "# plt.show()"
   ]
  },
  {
   "cell_type": "code",
   "execution_count": 21,
   "id": "00bfcb0c",
   "metadata": {
    "ExecuteTime": {
     "end_time": "2023-04-17T13:20:55.176713Z",
     "start_time": "2023-04-17T13:20:55.161711Z"
    }
   },
   "outputs": [],
   "source": [
    "# fig = plt.figure(figsize=[10, 8])  #定义新的三维坐标轴\n",
    "# axG = plt.axes(projection='3d')\n",
    "\n",
    "# p1= axG.plot_surface(X,Y,G.reshape(xx.shape[0], -1),rstride = 1, cstride = 1,cmap='rainbow')\n",
    "# p1._facecolors2d = p1._facecolor3d \n",
    "# p1._edgecolors2d = p1._edgecolor3d \n",
    "# plt.legend(['G'])\n",
    "# plt.show()"
   ]
  },
  {
   "cell_type": "code",
   "execution_count": 22,
   "id": "25ad1b39",
   "metadata": {
    "ExecuteTime": {
     "end_time": "2023-04-17T13:20:56.159764Z",
     "start_time": "2023-04-17T13:20:55.177714Z"
    }
   },
   "outputs": [
    {
     "data": {
      "text/plain": [
       "(1535, tensor(-15.1479, dtype=torch.float64))"
      ]
     },
     "execution_count": 22,
     "metadata": {},
     "output_type": "execute_result"
    }
   ],
   "source": [
    "g1 = []\n",
    "for x in design_X:\n",
    "    z,g = f(x)\n",
    "    g1.append(g)\n",
    "    \n",
    "np.argmax(g1), min(g1) \n",
    "# plt.scatter(design_X, g1)\n",
    "# plt.scatter(design_X, 0.2 + design_X * 3)"
   ]
  },
  {
   "cell_type": "markdown",
   "id": "7109ba1e",
   "metadata": {},
   "source": [
    "#### Z fitting "
   ]
  },
  {
   "cell_type": "code",
   "execution_count": 23,
   "id": "65525973",
   "metadata": {
    "ExecuteTime": {
     "end_time": "2023-04-17T13:20:56.175766Z",
     "start_time": "2023-04-17T13:20:56.160763Z"
    }
   },
   "outputs": [],
   "source": [
    "# xx = np.linspace(0,1, 1000).reshape(-1, 1)\n",
    "# z = 2 * np.sin(6 * np.pi * xx) - 3 * xx\n",
    "# m = []\n",
    "# var = []\n",
    "\n",
    "# for x in xx:\n",
    "#     m.append(model_Z.posterior(torch.from_numpy(x.reshape(-1, 1))).mean.detach().numpy().ravel())\n",
    "#     var.append(model_Z.posterior(torch.from_numpy(x)).variance.detach().numpy().ravel())\n",
    "\n",
    "# plt.scatter(xx.ravel(), m)\n",
    "# plt.scatter(xx.ravel(), z)"
   ]
  },
  {
   "cell_type": "markdown",
   "id": "0be3792a",
   "metadata": {},
   "source": [
    "### L fitting"
   ]
  },
  {
   "cell_type": "code",
   "execution_count": 24,
   "id": "783df3c5",
   "metadata": {
    "ExecuteTime": {
     "end_time": "2023-04-17T13:20:56.191770Z",
     "start_time": "2023-04-17T13:20:56.176768Z"
    }
   },
   "outputs": [],
   "source": [
    "# xx = np.linspace(0,1, 1000).reshape(-1, 1)\n",
    "# s = (0.2 + xx * 3)**2\n",
    "# pi_l = np.log(s/(M_s-s))\n",
    "# m = []\n",
    "# var = []\n",
    "\n",
    "# for x in xx:\n",
    "#     m.append(model_L.posterior(torch.from_numpy(x)).mean.detach().numpy().ravel())\n",
    "#     var.append(model_L.posterior(torch.from_numpy(x)).variance.detach().numpy().ravel())\n",
    "    \n",
    "# plt.scatter(xx.ravel(), m)\n",
    "# plt.scatter(xx.ravel(), pi_l, c=\"r\")"
   ]
  },
  {
   "cell_type": "code",
   "execution_count": 25,
   "id": "4f4a2079",
   "metadata": {
    "ExecuteTime": {
     "end_time": "2023-04-17T13:20:56.207774Z",
     "start_time": "2023-04-17T13:20:56.192770Z"
    },
    "scrolled": false
   },
   "outputs": [],
   "source": [
    "# var = (0.2+train_X*3) **2\n",
    "\n",
    "\n",
    "# # for x in xx:\n",
    "# #     m.append(model_L.posterior(torch.from_numpy(x)).mean.detach().numpy().ravel())\n",
    "# #     var.append(model_L.posterior(torch.from_numpy(x)).variance.detach().numpy().ravel())\n",
    "    \n",
    "# plt.scatter(train_X.ravel(), train_yv.ravel())\n",
    "# plt.scatter(train_X.ravel(), var.ravel(), c=\"r\")"
   ]
  },
  {
   "cell_type": "code",
   "execution_count": 26,
   "id": "fada4ffe",
   "metadata": {
    "ExecuteTime": {
     "end_time": "2023-04-17T13:20:56.223778Z",
     "start_time": "2023-04-17T13:20:56.208775Z"
    },
    "scrolled": true
   },
   "outputs": [],
   "source": [
    "# xp = sorted_x.detach().numpy().ravel()\n",
    "# m = Z_m.detach().numpy().ravel()\n",
    "# s_xp = Z_v.detach().numpy().ravel()\n",
    "\n",
    "\n",
    "\n",
    "# light=\"#DCBCBC\"\n",
    "# light_highlight=\"#C79999\"\n",
    "# mid=\"#B97C7C\"\n",
    "# mid_highlight=\"#A25050\"\n",
    "# dark=\"#8F2727\"\n",
    "# dark_highlight=\"#7C0000\"\n",
    "# green=\"#00FF00\"\n",
    "# #  0.846, 1.163, 1.42, 1.540\n",
    "# plt.fill_between(xp, m-s_xp, m+s_xp,facecolor=mid, color=mid)\n",
    "# plt.scatter(xp, m, color=dark, s=0.2)\n",
    "# plt.scatter(train_X.detach().numpy(), train_ym.detach().numpy(), s=10, c='b')\n",
    "# # plt.scatter(xs, y_ob[0],s=4)\n",
    "# # plt.legend(['m=8', 'm=5', 'm=3'], loc=3)"
   ]
  },
  {
   "cell_type": "code",
   "execution_count": 27,
   "id": "16c0d02c",
   "metadata": {
    "ExecuteTime": {
     "end_time": "2023-04-17T13:20:56.239286Z",
     "start_time": "2023-04-17T13:20:56.224779Z"
    }
   },
   "outputs": [],
   "source": [
    "# result_dic = {}\n",
    "# n = 3\n",
    "# for i in range(50):\n",
    "#     result_dic[i] = [0, []]\n",
    "\n",
    "\n",
    "# # train_X = np.arange(1, 9, 1)\n",
    "# # train_y = np.random.normal(0,1, su(train_X.shape[0], n))\n",
    "# train_y = []\n",
    "# max_index_list = [0,1,2,4,6,2,2,6]    \n",
    "# for iteration in range(8):\n",
    "#     max_index = max_index_list[iteration]\n",
    "#     next_X = design_X[max_index]\n",
    "#     result_dic[max_index][0] =  result_dic[max_index][0] + 1\n",
    "#     result_dic[max_index][1].append(iteration)\n",
    "#     n_replications = np.zeros(shape=n)\n",
    "#     for i in range(n):\n",
    "#         n_replications[i] =  random.random()\n",
    "    \n",
    "#     train_y.append(list(n_replications)) \n",
    "#     train_X = []\n",
    "#     train_ym = []\n",
    "#     train_yv = []\n",
    "#     for k, v in result_dic.items():\n",
    "#         if v[0] > 0:\n",
    "#             y_sum = 0\n",
    "#             all_reps = []\n",
    "#             for i in v[1]:\n",
    "#                 all_reps.append(train_y[i])\n",
    "                \n",
    "#             ym = np.mean(all_reps)\n",
    "#             yv = np.var(all_reps, ddof=1)\n",
    "        \n",
    "#             train_X.append(design_X[k].numpy()[0])\n",
    "#             train_ym.append(ym)\n",
    "#             train_yv.append(yv)\n",
    "        \n",
    "\n"
   ]
  },
  {
   "cell_type": "code",
   "execution_count": 28,
   "id": "c7403d79",
   "metadata": {
    "ExecuteTime": {
     "end_time": "2023-04-17T13:20:56.255289Z",
     "start_time": "2023-04-17T13:20:56.240286Z"
    },
    "scrolled": false
   },
   "outputs": [],
   "source": [
    "# plt.scatter(train_X[:, 0], train_X[:, 1])"
   ]
  }
 ],
 "metadata": {
  "kernelspec": {
   "display_name": "torch",
   "language": "python",
   "name": "torch"
  },
  "language_info": {
   "codemirror_mode": {
    "name": "ipython",
    "version": 3
   },
   "file_extension": ".py",
   "mimetype": "text/x-python",
   "name": "python",
   "nbconvert_exporter": "python",
   "pygments_lexer": "ipython3",
   "version": "3.8.13"
  },
  "toc": {
   "base_numbering": 1,
   "nav_menu": {},
   "number_sections": true,
   "sideBar": true,
   "skip_h1_title": false,
   "title_cell": "Table of Contents",
   "title_sidebar": "Contents",
   "toc_cell": false,
   "toc_position": {},
   "toc_section_display": true,
   "toc_window_display": false
  },
  "varInspector": {
   "cols": {
    "lenName": 16,
    "lenType": 16,
    "lenVar": 40
   },
   "kernels_config": {
    "python": {
     "delete_cmd_postfix": "",
     "delete_cmd_prefix": "del ",
     "library": "var_list.py",
     "varRefreshCmd": "print(var_dic_list())"
    },
    "r": {
     "delete_cmd_postfix": ") ",
     "delete_cmd_prefix": "rm(",
     "library": "var_list.r",
     "varRefreshCmd": "cat(var_dic_list()) "
    }
   },
   "oldHeight": 394.616666,
   "position": {
    "height": "40px",
    "left": "1189.9px",
    "right": "20px",
    "top": "145px",
    "width": "355.767px"
   },
   "types_to_exclude": [
    "module",
    "function",
    "builtin_function_or_method",
    "instance",
    "_Feature"
   ],
   "varInspector_section_display": "none",
   "window_display": false
  }
 },
 "nbformat": 4,
 "nbformat_minor": 5
}
